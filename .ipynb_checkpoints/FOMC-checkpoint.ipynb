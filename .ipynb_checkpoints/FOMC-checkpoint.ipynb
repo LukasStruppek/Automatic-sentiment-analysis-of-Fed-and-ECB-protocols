{
 "cells": [
  {
   "cell_type": "markdown",
   "metadata": {},
   "source": [
    "## Imports"
   ]
  },
  {
   "cell_type": "code",
   "execution_count": 1,
   "metadata": {},
   "outputs": [],
   "source": [
    "# Imports\n",
    "import requests\n",
    "import re\n",
    "from bs4 import BeautifulSoup"
   ]
  },
  {
   "cell_type": "markdown",
   "metadata": {},
   "source": [
    "## Misc. methods"
   ]
  },
  {
   "cell_type": "code",
   "execution_count": 2,
   "metadata": {},
   "outputs": [],
   "source": [
    "# Filters the content out of a minutes-page (FOMC)\n",
    "def filter_text(url):\n",
    "    page = requests.get(url)\n",
    "    soup = BeautifulSoup(page.content, 'html.parser')\n",
    "    content = soup.find(id = \"article\")\n",
    "    if(content is not None):\n",
    "        text = content.get_text()\n",
    "    else:\n",
    "        text = soup.find(id = \"leftText\")\n",
    "        if(text is not None):\n",
    "            text = text.get_text()\n",
    "        else:\n",
    "            tables = soup.find_all(\"table\")\n",
    "            text = \"\"\n",
    "            for table in tables:\n",
    "                text += table.get_text()\n",
    "    return text"
   ]
  },
  {
   "cell_type": "markdown",
   "metadata": {},
   "source": [
    "## Retrieving content from current FOMC Meetings page (2013 - today)"
   ]
  },
  {
   "cell_type": "code",
   "execution_count": 4,
   "metadata": {},
   "outputs": [],
   "source": [
    "# Get page content of current meetings page\n",
    "current_fomc_page = requests.get(\"https://www.federalreserve.gov/monetarypolicy/fomccalendars.htm\")\n",
    "current_fomc_soup = BeautifulSoup(current_fomc_page.content, 'html.parser')\n",
    "current_fomc_blocks = current_fomc_soup.select(\".fomc-meeting__minutes\")"
   ]
  },
  {
   "cell_type": "code",
   "execution_count": 42,
   "metadata": {},
   "outputs": [],
   "source": [
    "# Get URL, Date and Minutes of each Meeting\n",
    "# Structure of each tuple in the list: (date, url, content) \n",
    "# date format: yyyymmdd\n",
    "current_minutes_fomc = []\n",
    "for m in current_fomc_blocks:\n",
    "    for a in m.select(\"a\"):\n",
    "        if(\".htm\" in a[\"href\"]):\n",
    "            url = \"https://www.federalreserve.gov\" + a[\"href\"]\n",
    "            date = \"\".join(re.findall('\\d+', url))\n",
    "            article = filter_text(url)\n",
    "            current_minutes_fomc.append((date, url, article))"
   ]
  },
  {
   "cell_type": "markdown",
   "metadata": {},
   "source": [
    "## Retrieving content from current FOMC Meetings page (2012 and older)"
   ]
  },
  {
   "cell_type": "code",
   "execution_count": 43,
   "metadata": {},
   "outputs": [],
   "source": [
    "# Get page content of historical meetings page\n",
    "historical_fomc_page = requests.get(\"https://www.federalreserve.gov/monetarypolicy/fomc_historical_year.htm\")\n",
    "historical_fomc_soup = BeautifulSoup(historical_fomc_page.content, 'html.parser')\n",
    "# historical_archive_minutes_pages = historical_archive_soup.select(\".fomc-meeting__minutes\")"
   ]
  },
  {
   "cell_type": "code",
   "execution_count": 53,
   "metadata": {},
   "outputs": [],
   "source": [
    "# Get url for each historical year\n",
    "blocks = historical_fomc_soup.select(\".panel-default\")\n",
    "historical_minutes_urls = []\n",
    "for block in blocks:\n",
    "    for a in block.select(\"a\"):\n",
    "        historical_minutes_urls.append(\"https://www.federalreserve.gov\" + a[\"href\"])"
   ]
  },
  {
   "cell_type": "code",
   "execution_count": 45,
   "metadata": {},
   "outputs": [],
   "source": [
    "# Get URL, Date and Minutes of each Meeting\n",
    "# Structure of each tuple in the list: (date, url, content) \n",
    "# date format: yyyymmdd\n",
    "historical_minutes_fomc = []\n",
    "for url in historical_minutes_urls:\n",
    "    page = requests.get(url)\n",
    "    soup = BeautifulSoup(page.content, \"html.parser\")\n",
    "    blocks = soup.select(\".panel-default\")\n",
    "    for block in blocks:\n",
    "        for a in block.select(\"a\"):\n",
    "            # urls are not consistent over the years\n",
    "            if (\"minutes\" in a[\"href\"]) and (\".htm\" in a[\"href\"]) and (\"#\" not in a[\"href\"]):\n",
    "                if(\"https://www.federalreserve.gov\" in a[\"href\"]):\n",
    "                    url = a[\"href\"]\n",
    "                else:\n",
    "                    url= \"https://www.federalreserve.gov\" + a[\"href\"]\n",
    "                # date is extracted from the url\n",
    "                date = \"\".join(re.findall('\\d+', url))\n",
    "                article = filter_text(url)\n",
    "                historical_minutes_fomc.append((date, url, article))"
   ]
  },
  {
   "cell_type": "markdown",
   "metadata": {},
   "source": [
    "## Unite collections"
   ]
  },
  {
   "cell_type": "code",
   "execution_count": 54,
   "metadata": {},
   "outputs": [],
   "source": [
    "minutes_fomc = sorted(historical_minutes_fomc) + sorted(current_minutes_fomc)"
   ]
  },
  {
   "cell_type": "markdown",
   "metadata": {},
   "source": [
    "# Testing Area"
   ]
  },
  {
   "cell_type": "code",
   "execution_count": 56,
   "metadata": {},
   "outputs": [
    {
     "name": "stdout",
     "output_type": "stream",
     "text": [
      "Date: 19960130, URL: https://www.federalreserve.gov/fomc/minutes/19960130.htm\n",
      "Date: 19960326, URL: https://www.federalreserve.gov/fomc/minutes/19960326.htm\n",
      "Date: 19960521, URL: https://www.federalreserve.gov/fomc/minutes/19960521.htm\n",
      "Date: 19960702, URL: https://www.federalreserve.gov/fomc/minutes/19960702.htm\n",
      "Date: 19960820, URL: https://www.federalreserve.gov/fomc/minutes/19960820.htm\n",
      "Date: 19960924, URL: https://www.federalreserve.gov/fomc/minutes/19960924.htm\n",
      "Date: 19961113, URL: https://www.federalreserve.gov/fomc/minutes/19961113.htm\n",
      "Date: 19961217, URL: https://www.federalreserve.gov/fomc/minutes/19961217.htm\n",
      "Date: 19970204, URL: https://www.federalreserve.gov/fomc/minutes/19970204.htm\n",
      "Date: 19970325, URL: https://www.federalreserve.gov/fomc/minutes/19970325.htm\n",
      "Date: 19970520, URL: https://www.federalreserve.gov/fomc/minutes/19970520.htm\n",
      "Date: 19970701, URL: https://www.federalreserve.gov/fomc/minutes/19970701.htm\n",
      "Date: 19970819, URL: https://www.federalreserve.gov/fomc/minutes/19970819.htm\n",
      "Date: 19970930, URL: https://www.federalreserve.gov/fomc/minutes/19970930.htm\n",
      "Date: 19971112, URL: https://www.federalreserve.gov/fomc/minutes/19971112.htm\n",
      "Date: 19971216, URL: https://www.federalreserve.gov/fomc/minutes/19971216.htm\n",
      "Date: 19980203, URL: https://www.federalreserve.gov/fomc/minutes/19980203.htm\n",
      "Date: 19980331, URL: https://www.federalreserve.gov/fomc/minutes/19980331.htm\n",
      "Date: 19980519, URL: https://www.federalreserve.gov/fomc/minutes/19980519.htm\n",
      "Date: 19980630, URL: https://www.federalreserve.gov/fomc/minutes/19980630.htm\n",
      "Date: 19980818, URL: https://www.federalreserve.gov/fomc/minutes/19980818.htm\n",
      "Date: 19980929, URL: https://www.federalreserve.gov/fomc/minutes/19980929.htm\n",
      "Date: 19981117, URL: https://www.federalreserve.gov/fomc/minutes/19981117.htm\n",
      "Date: 19981222, URL: https://www.federalreserve.gov/fomc/minutes/19981222.htm\n",
      "Date: 19990202, URL: https://www.federalreserve.gov/fomc/minutes/19990202.htm\n",
      "Date: 19990330, URL: https://www.federalreserve.gov/fomc/minutes/19990330.htm\n",
      "Date: 19990518, URL: https://www.federalreserve.gov/fomc/minutes/19990518.htm\n",
      "Date: 19990629, URL: https://www.federalreserve.gov/fomc/minutes/19990629.htm\n",
      "Date: 19990824, URL: https://www.federalreserve.gov/fomc/minutes/19990824.htm\n",
      "Date: 19991005, URL: https://www.federalreserve.gov/fomc/minutes/19991005.htm\n",
      "Date: 19991116, URL: https://www.federalreserve.gov/fomc/minutes/19991116.htm\n",
      "Date: 19991221, URL: https://www.federalreserve.gov/fomc/minutes/19991221.htm\n",
      "Date: 20000202, URL: https://www.federalreserve.gov/fomc/minutes/20000202.htm\n",
      "Date: 20000321, URL: https://www.federalreserve.gov/fomc/minutes/20000321.htm\n",
      "Date: 20000516, URL: https://www.federalreserve.gov/fomc/minutes/20000516.htm\n",
      "Date: 20000628, URL: https://www.federalreserve.gov/fomc/minutes/20000628.htm\n",
      "Date: 20000822, URL: https://www.federalreserve.gov/fomc/minutes/20000822.htm\n",
      "Date: 20001003, URL: https://www.federalreserve.gov/fomc/minutes/20001003.htm\n",
      "Date: 20001115, URL: https://www.federalreserve.gov/fomc/minutes/20001115.htm\n",
      "Date: 20001219, URL: https://www.federalreserve.gov/fomc/minutes/20001219.htm\n",
      "Date: 20010131, URL: https://www.federalreserve.gov/fomc/minutes/20010131.htm\n",
      "Date: 20010320, URL: https://www.federalreserve.gov/fomc/minutes/20010320.htm\n",
      "Date: 20010515, URL: https://www.federalreserve.gov/fomc/minutes/20010515.htm\n",
      "Date: 20010627, URL: https://www.federalreserve.gov/fomc/minutes/20010627.htm\n",
      "Date: 20010821, URL: https://www.federalreserve.gov/fomc/minutes/20010821.htm\n",
      "Date: 20011002, URL: https://www.federalreserve.gov/fomc/minutes/20011002.htm\n",
      "Date: 20011106, URL: https://www.federalreserve.gov/fomc/minutes/20011106.htm\n",
      "Date: 20011211, URL: https://www.federalreserve.gov/fomc/minutes/20011211.htm\n",
      "Date: 20020130, URL: https://www.federalreserve.gov/fomc/minutes/20020130.htm\n",
      "Date: 20020319, URL: https://www.federalreserve.gov/fomc/minutes/20020319.htm\n",
      "Date: 20020507, URL: https://www.federalreserve.gov/fomc/minutes/20020507.htm\n",
      "Date: 20020626, URL: https://www.federalreserve.gov/fomc/minutes/20020626.htm\n",
      "Date: 20020813, URL: https://www.federalreserve.gov/fomc/minutes/20020813.htm\n",
      "Date: 20020924, URL: https://www.federalreserve.gov/fomc/minutes/20020924.htm\n",
      "Date: 20021106, URL: https://www.federalreserve.gov/fomc/minutes/20021106.htm\n",
      "Date: 20021210, URL: https://www.federalreserve.gov/fomc/minutes/20021210.htm\n",
      "Date: 20030129, URL: https://www.federalreserve.gov/fomc/minutes/20030129.htm\n",
      "Date: 20030318, URL: https://www.federalreserve.gov/fomc/minutes/20030318.htm\n",
      "Date: 20030506, URL: https://www.federalreserve.gov/fomc/minutes/20030506.htm\n",
      "Date: 20030625, URL: https://www.federalreserve.gov/fomc/minutes/20030625.htm\n",
      "Date: 20030812, URL: https://www.federalreserve.gov/fomc/minutes/20030812.htm\n",
      "Date: 20030916, URL: https://www.federalreserve.gov/fomc/minutes/20030916.htm\n",
      "Date: 20031028, URL: https://www.federalreserve.gov/fomc/minutes/20031028.htm\n",
      "Date: 20031209, URL: https://www.federalreserve.gov/fomc/minutes/20031209.htm\n",
      "Date: 20040128, URL: https://www.federalreserve.gov/fomc/minutes/20040128.htm\n",
      "Date: 20040316, URL: https://www.federalreserve.gov/fomc/minutes/20040316.htm\n",
      "Date: 20040504, URL: https://www.federalreserve.gov/fomc/minutes/20040504.htm\n",
      "Date: 20040630, URL: https://www.federalreserve.gov/fomc/minutes/20040630.htm\n",
      "Date: 20040810, URL: https://www.federalreserve.gov/fomc/minutes/20040810.htm\n",
      "Date: 20040921, URL: https://www.federalreserve.gov/fomc/minutes/20040921.htm\n",
      "Date: 20041110, URL: https://www.federalreserve.gov/fomc/minutes/20041110.htm\n",
      "Date: 20041214, URL: https://www.federalreserve.gov/fomc/minutes/20041214.htm\n",
      "Date: 20050202, URL: https://www.federalreserve.gov/fomc/minutes/20050202.htm\n",
      "Date: 20050322, URL: https://www.federalreserve.gov/fomc/minutes/20050322.htm\n",
      "Date: 20050503, URL: https://www.federalreserve.gov/fomc/minutes/20050503.htm\n",
      "Date: 20050630, URL: https://www.federalreserve.gov/fomc/minutes/20050630.htm\n",
      "Date: 20050809, URL: https://www.federalreserve.gov/fomc/minutes/20050809.htm\n",
      "Date: 20050920, URL: https://www.federalreserve.gov/fomc/minutes/20050920.htm\n",
      "Date: 20051101, URL: https://www.federalreserve.gov/fomc/minutes/20051101.htm\n",
      "Date: 20051213, URL: https://www.federalreserve.gov/fomc/minutes/20051213.htm\n",
      "Date: 20060131, URL: https://www.federalreserve.gov/fomc/minutes/20060131.htm\n",
      "Date: 20060328, URL: https://www.federalreserve.gov/fomc/minutes/20060328.htm\n",
      "Date: 20060510, URL: https://www.federalreserve.gov/fomc/minutes/20060510.htm\n",
      "Date: 20060629, URL: https://www.federalreserve.gov/fomc/minutes/20060629.htm\n",
      "Date: 20060808, URL: https://www.federalreserve.gov/fomc/minutes/20060808.htm\n",
      "Date: 20060920, URL: https://www.federalreserve.gov/fomc/minutes/20060920.htm\n",
      "Date: 20061025, URL: https://www.federalreserve.gov/fomc/minutes/20061025.htm\n",
      "Date: 20061212, URL: https://www.federalreserve.gov/fomc/minutes/20061212.htm\n",
      "Date: 20070131, URL: https://www.federalreserve.gov/fomc/minutes/20070131.htm\n",
      "Date: 20070321, URL: https://www.federalreserve.gov/fomc/minutes/20070321.htm\n",
      "Date: 20070509, URL: https://www.federalreserve.gov/fomc/minutes/20070509.htm\n",
      "Date: 20070628, URL: https://www.federalreserve.gov/fomc/minutes/20070628.htm\n",
      "Date: 20070807, URL: https://www.federalreserve.gov/fomc/minutes/20070807.htm\n",
      "Date: 20070918, URL: https://www.federalreserve.gov/fomc/minutes/20070918.htm\n",
      "Date: 20071031, URL: https://www.federalreserve.gov/monetarypolicy/fomcminutes20071031.htm\n",
      "Date: 20071211, URL: https://www.federalreserve.gov/monetarypolicy/fomcminutes20071211.htm\n",
      "Date: 20080130, URL: https://www.federalreserve.gov/monetarypolicy/fomcminutes20080130.htm\n",
      "Date: 20080318, URL: https://www.federalreserve.gov/monetarypolicy/fomcminutes20080318.htm\n",
      "Date: 20080430, URL: https://www.federalreserve.gov/monetarypolicy/fomcminutes20080430.htm\n",
      "Date: 20080805, URL: https://www.federalreserve.gov/monetarypolicy/fomcminutes20080805.htm\n",
      "Date: 20080916, URL: https://www.federalreserve.gov/monetarypolicy/fomcminutes20080916.htm\n",
      "Date: 20081029, URL: https://www.federalreserve.gov/monetarypolicy/fomcminutes20081029.htm\n",
      "Date: 20081216, URL: https://www.federalreserve.gov/monetarypolicy/fomcminutes20081216.htm\n",
      "Date: 20090128, URL: https://www.federalreserve.gov/monetarypolicy/fomcminutes20090128.htm\n",
      "Date: 20090318, URL: https://www.federalreserve.gov/monetarypolicy/fomcminutes20090318.htm\n",
      "Date: 20090429, URL: https://www.federalreserve.gov/monetarypolicy/fomcminutes20090429.htm\n",
      "Date: 20090624, URL: https://www.federalreserve.gov/monetarypolicy/fomcminutes20090624.htm\n",
      "Date: 20090812, URL: https://www.federalreserve.gov/monetarypolicy/fomcminutes20090812.htm\n",
      "Date: 20090923, URL: https://www.federalreserve.gov/monetarypolicy/fomcminutes20090923.htm\n",
      "Date: 20091104, URL: https://www.federalreserve.gov/monetarypolicy/fomcminutes20091104.htm\n",
      "Date: 20091216, URL: https://www.federalreserve.gov/monetarypolicy/fomcminutes20091216.htm\n",
      "Date: 20100127, URL: https://www.federalreserve.gov/monetarypolicy/fomcminutes20100127.htm\n",
      "Date: 20100316, URL: https://www.federalreserve.gov/monetarypolicy/fomcminutes20100316.htm\n",
      "Date: 20100428, URL: https://www.federalreserve.gov/monetarypolicy/fomcminutes20100428.htm\n",
      "Date: 20100623, URL: https://www.federalreserve.gov/monetarypolicy/fomcminutes20100623.htm\n",
      "Date: 20100810, URL: https://www.federalreserve.gov/monetarypolicy/fomcminutes20100810.htm\n",
      "Date: 20100921, URL: https://www.federalreserve.gov/monetarypolicy/fomcminutes20100921.htm\n",
      "Date: 20101103, URL: https://www.federalreserve.gov/monetarypolicy/fomcminutes20101103.htm\n",
      "Date: 20101214, URL: https://www.federalreserve.gov/monetarypolicy/fomcminutes20101214.htm\n",
      "Date: 20110126, URL: https://www.federalreserve.gov/monetarypolicy/fomcminutes20110126.htm\n",
      "Date: 20110315, URL: https://www.federalreserve.gov/monetarypolicy/fomcminutes20110315.htm\n",
      "Date: 20110427, URL: https://www.federalreserve.gov/monetarypolicy/fomcminutes20110427.htm\n",
      "Date: 20110622, URL: https://www.federalreserve.gov/monetarypolicy/fomcminutes20110622.htm\n",
      "Date: 20110809, URL: https://www.federalreserve.gov/monetarypolicy/fomcminutes20110809.htm\n",
      "Date: 20110921, URL: https://www.federalreserve.gov/monetarypolicy/fomcminutes20110921.htm\n",
      "Date: 20111102, URL: https://www.federalreserve.gov/monetarypolicy/fomcminutes20111102.htm\n",
      "Date: 20111213, URL: https://www.federalreserve.gov/monetarypolicy/fomcminutes20111213.htm\n",
      "Date: 20120125, URL: https://www.federalreserve.gov/monetarypolicy/fomcminutes20120125.htm\n",
      "Date: 20120313, URL: https://www.federalreserve.gov/monetarypolicy/fomcminutes20120313.htm\n",
      "Date: 20120425, URL: https://www.federalreserve.gov/monetarypolicy/fomcminutes20120425.htm\n",
      "Date: 20120620, URL: https://www.federalreserve.gov/monetarypolicy/fomcminutes20120620.htm\n",
      "Date: 20120801, URL: https://www.federalreserve.gov/monetarypolicy/fomcminutes20120801.htm\n",
      "Date: 20120913, URL: https://www.federalreserve.gov/monetarypolicy/fomcminutes20120913.htm\n",
      "Date: 20121024, URL: https://www.federalreserve.gov/monetarypolicy/fomcminutes20121024.htm\n",
      "Date: 20121212, URL: https://www.federalreserve.gov/monetarypolicy/fomcminutes20121212.htm\n",
      "Date: 20130130, URL: https://www.federalreserve.gov/monetarypolicy/fomcminutes20130130.htm\n",
      "Date: 20130320, URL: https://www.federalreserve.gov/monetarypolicy/fomcminutes20130320.htm\n",
      "Date: 20130501, URL: https://www.federalreserve.gov/monetarypolicy/fomcminutes20130501.htm\n",
      "Date: 20130619, URL: https://www.federalreserve.gov/monetarypolicy/fomcminutes20130619.htm\n",
      "Date: 20130731, URL: https://www.federalreserve.gov/monetarypolicy/fomcminutes20130731.htm\n",
      "Date: 20130918, URL: https://www.federalreserve.gov/monetarypolicy/fomcminutes20130918.htm\n",
      "Date: 20131030, URL: https://www.federalreserve.gov/monetarypolicy/fomcminutes20131030.htm\n",
      "Date: 20131218, URL: https://www.federalreserve.gov/monetarypolicy/fomcminutes20131218.htm\n",
      "Date: 20140129, URL: https://www.federalreserve.gov/monetarypolicy/fomcminutes20140129.htm\n",
      "Date: 20140319, URL: https://www.federalreserve.gov/monetarypolicy/fomcminutes20140319.htm\n",
      "Date: 20140430, URL: https://www.federalreserve.gov/monetarypolicy/fomcminutes20140430.htm\n",
      "Date: 20140618, URL: https://www.federalreserve.gov/monetarypolicy/fomcminutes20140618.htm\n",
      "Date: 20140730, URL: https://www.federalreserve.gov/monetarypolicy/fomcminutes20140730.htm\n",
      "Date: 20140917, URL: https://www.federalreserve.gov/monetarypolicy/fomcminutes20140917.htm\n",
      "Date: 20141029, URL: https://www.federalreserve.gov/monetarypolicy/fomcminutes20141029.htm\n",
      "Date: 20141217, URL: https://www.federalreserve.gov/monetarypolicy/fomcminutes20141217.htm\n",
      "Date: 20150128, URL: https://www.federalreserve.gov/monetarypolicy/fomcminutes20150128.htm\n",
      "Date: 20150318, URL: https://www.federalreserve.gov/monetarypolicy/fomcminutes20150318.htm\n",
      "Date: 20150429, URL: https://www.federalreserve.gov/monetarypolicy/fomcminutes20150429.htm\n",
      "Date: 20150617, URL: https://www.federalreserve.gov/monetarypolicy/fomcminutes20150617.htm\n",
      "Date: 20150729, URL: https://www.federalreserve.gov/monetarypolicy/fomcminutes20150729.htm\n",
      "Date: 20150917, URL: https://www.federalreserve.gov/monetarypolicy/fomcminutes20150917.htm\n",
      "Date: 20151028, URL: https://www.federalreserve.gov/monetarypolicy/fomcminutes20151028.htm\n",
      "Date: 20151216, URL: https://www.federalreserve.gov/monetarypolicy/fomcminutes20151216.htm\n",
      "Date: 20160127, URL: https://www.federalreserve.gov/monetarypolicy/fomcminutes20160127.htm\n",
      "Date: 20160316, URL: https://www.federalreserve.gov/monetarypolicy/fomcminutes20160316.htm\n",
      "Date: 20160427, URL: https://www.federalreserve.gov/monetarypolicy/fomcminutes20160427.htm\n",
      "Date: 20160615, URL: https://www.federalreserve.gov/monetarypolicy/fomcminutes20160615.htm\n",
      "Date: 20160727, URL: https://www.federalreserve.gov/monetarypolicy/fomcminutes20160727.htm\n",
      "Date: 20160921, URL: https://www.federalreserve.gov/monetarypolicy/fomcminutes20160921.htm\n",
      "Date: 20161102, URL: https://www.federalreserve.gov/monetarypolicy/fomcminutes20161102.htm\n",
      "Date: 20161214, URL: https://www.federalreserve.gov/monetarypolicy/fomcminutes20161214.htm\n",
      "Date: 20170201, URL: https://www.federalreserve.gov/monetarypolicy/fomcminutes20170201.htm\n",
      "Date: 20170315, URL: https://www.federalreserve.gov/monetarypolicy/fomcminutes20170315.htm\n",
      "Date: 20170503, URL: https://www.federalreserve.gov/monetarypolicy/fomcminutes20170503.htm\n",
      "Date: 20170614, URL: https://www.federalreserve.gov/monetarypolicy/fomcminutes20170614.htm\n",
      "Date: 20170726, URL: https://www.federalreserve.gov/monetarypolicy/fomcminutes20170726.htm\n",
      "Date: 20170920, URL: https://www.federalreserve.gov/monetarypolicy/fomcminutes20170920.htm\n",
      "Date: 20171101, URL: https://www.federalreserve.gov/monetarypolicy/fomcminutes20171101.htm\n",
      "Date: 20171213, URL: https://www.federalreserve.gov/monetarypolicy/fomcminutes20171213.htm\n",
      "Date: 20180131, URL: https://www.federalreserve.gov/monetarypolicy/fomcminutes20180131.htm\n",
      "Date: 20180321, URL: https://www.federalreserve.gov/monetarypolicy/fomcminutes20180321.htm\n"
     ]
    }
   ],
   "source": [
    "for minute in minutes_fomc:\n",
    "    print(\"Date: \" + minute[0] + \", URL: \" + minute[1])"
   ]
  }
 ],
 "metadata": {
  "kernelspec": {
   "display_name": "Python 3",
   "language": "python",
   "name": "python3"
  },
  "language_info": {
   "codemirror_mode": {
    "name": "ipython",
    "version": 3
   },
   "file_extension": ".py",
   "mimetype": "text/x-python",
   "name": "python",
   "nbconvert_exporter": "python",
   "pygments_lexer": "ipython3",
   "version": "3.6.5"
  }
 },
 "nbformat": 4,
 "nbformat_minor": 2
}
