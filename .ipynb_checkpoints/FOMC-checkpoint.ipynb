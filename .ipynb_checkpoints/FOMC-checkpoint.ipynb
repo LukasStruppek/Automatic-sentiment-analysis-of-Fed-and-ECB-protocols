{
 "cells": [
  {
   "cell_type": "markdown",
   "metadata": {},
   "source": [
    "## Imports"
   ]
  },
  {
   "cell_type": "code",
   "execution_count": 2,
   "metadata": {},
   "outputs": [
    {
     "ename": "ModuleNotFoundError",
     "evalue": "No module named 'textract'",
     "output_type": "error",
     "traceback": [
      "\u001b[1;31m---------------------------------------------------------------------------\u001b[0m",
      "\u001b[1;31mModuleNotFoundError\u001b[0m                       Traceback (most recent call last)",
      "\u001b[1;32m<ipython-input-2-52496930ae51>\u001b[0m in \u001b[0;36m<module>\u001b[1;34m()\u001b[0m\n\u001b[0;32m      3\u001b[0m \u001b[1;32mimport\u001b[0m \u001b[0mre\u001b[0m\u001b[1;33m\u001b[0m\u001b[0m\n\u001b[0;32m      4\u001b[0m \u001b[1;32mfrom\u001b[0m \u001b[0mbs4\u001b[0m \u001b[1;32mimport\u001b[0m \u001b[0mBeautifulSoup\u001b[0m\u001b[1;33m\u001b[0m\u001b[0m\n\u001b[1;32m----> 5\u001b[1;33m \u001b[1;32mimport\u001b[0m \u001b[0mtextract\u001b[0m\u001b[1;33m\u001b[0m\u001b[0m\n\u001b[0m",
      "\u001b[1;31mModuleNotFoundError\u001b[0m: No module named 'textract'"
     ]
    }
   ],
   "source": [
    "# Imports\n",
    "import requests\n",
    "import re\n",
    "from bs4 import BeautifulSoup\n",
    "import textract"
   ]
  },
  {
   "cell_type": "markdown",
   "metadata": {},
   "source": [
    "## Misc. methods"
   ]
  },
  {
   "cell_type": "code",
   "execution_count": 218,
   "metadata": {},
   "outputs": [],
   "source": [
    "# Filters the content out of a minutes-page (FOMC)\n",
    "def filter_text(url):\n",
    "    page = requests.get(url)\n",
    "    soup = BeautifulSoup(page.content, 'html.parser')\n",
    "    content = soup.find(id = \"article\")\n",
    "    if(content is not None):\n",
    "        text = content.get_text()\n",
    "    else:\n",
    "        text = soup.find(id = \"leftText\")\n",
    "        if(text is not None):\n",
    "            text = text.get_text()\n",
    "        else:\n",
    "            tables = soup.find_all(\"table\")\n",
    "            text = \"\"\n",
    "            for table in tables:\n",
    "                text += table.get_text()\n",
    "    return text"
   ]
  },
  {
   "cell_type": "markdown",
   "metadata": {},
   "source": [
    "## Retrieving content from current FOMC Meetings page (2013 - today)"
   ]
  },
  {
   "cell_type": "code",
   "execution_count": 128,
   "metadata": {},
   "outputs": [],
   "source": [
    "# Get page content of current meetings page\n",
    "current_fomc_page = requests.get(\"https://www.federalreserve.gov/monetarypolicy/fomccalendars.htm\")\n",
    "current_fomc_soup = BeautifulSoup(current_archive_page.content, 'html.parser')\n",
    "current_fomc_blocks = current_fomc_soup.select(\".fomc-meeting__minutes\")"
   ]
  },
  {
   "cell_type": "code",
   "execution_count": 132,
   "metadata": {},
   "outputs": [],
   "source": [
    "# Get URL, Date and Minutes of each Meeting\n",
    "# Structure of each tuple in the list: (date, url, content) \n",
    "# date format: yyyymmdd\n",
    "current_minutes_fomc = []\n",
    "for m in current_fomc_blocks:\n",
    "    for a in m.select(\"a\"):\n",
    "        if(\".htm\" in a[\"href\"]):\n",
    "            url = \"https://www.federalreserve.gov\" + a[\"href\"]\n",
    "            date = re.findall('\\d+', url)\n",
    "            article = filter_text(url)\n",
    "            current_minutes_fomc.append((date, url, article))"
   ]
  },
  {
   "cell_type": "markdown",
   "metadata": {},
   "source": [
    "## Retrieving content from current FOMC Meetings page (2012 and older)"
   ]
  },
  {
   "cell_type": "code",
   "execution_count": 139,
   "metadata": {},
   "outputs": [],
   "source": [
    "# Get page content of historical meetings page\n",
    "historical_archive_page = requests.get(\"https://www.federalreserve.gov/monetarypolicy/fomc_historical_year.htm\")\n",
    "historical_archive_soup = BeautifulSoup(historical_archive_page.content, 'html.parser')\n",
    "historical_archive_minutes_pages = historical_fomc_soup.select(\".fomc-meeting__minutes\")"
   ]
  },
  {
   "cell_type": "code",
   "execution_count": 184,
   "metadata": {},
   "outputs": [],
   "source": [
    "# Get url for each historical year\n",
    "blocks = historical_fomc_soup.select(\".panel-default\")\n",
    "historical_minutes_urls = []\n",
    "for block in blocks:\n",
    "    for a in block.select(\"a\"):\n",
    "        historical_minutes_urls.append(\"https://www.federalreserve.gov\" + a[\"href\"])"
   ]
  },
  {
   "cell_type": "code",
   "execution_count": null,
   "metadata": {},
   "outputs": [],
   "source": [
    "# Get URL, Date and Minutes of each Meeting\n",
    "# Structure of each tuple in the list: (date, url, content) \n",
    "# date format: yyyymmddhistorical_fomc_urls = []\n",
    "historical_minutes_fomc = []\n",
    "for url in historical_minutes_urls:\n",
    "    page = requests.get(url)\n",
    "    soup = BeautifulSoup(page.content, \"html.parser\")\n",
    "    blocks = soup.select(\".panel-default\")\n",
    "    for block in blocks:\n",
    "        for a in block.select(\"a\"):\n",
    "            # urls are not consistent over the years\n",
    "            if (\"minutes\" in a[\"href\"]) and (\".htm\" in a[\"href\"]) and (\"#\" not in a[\"href\"]):\n",
    "                if(\"https://www.federalreserve.gov\" in a[\"href\"]):\n",
    "                    url = a[\"href\"]\n",
    "                else:\n",
    "                    url= \"https://www.federalreserve.gov\" + a[\"href\"]\n",
    "                # date is extracted from the url\n",
    "                date = re.findall('\\d+', url)\n",
    "                article = filter_text(url)\n",
    "                historical_minutes_fomc.append((date, url, article))"
   ]
  },
  {
   "cell_type": "markdown",
   "metadata": {},
   "source": [
    "# Testing Area"
   ]
  },
  {
   "cell_type": "raw",
   "metadata": {},
   "source": [
    "for i in historical_minutes_fomc:\n",
    "    print(i[0], \"  \", len(i[2]))"
   ]
  },
  {
   "cell_type": "code",
   "execution_count": 221,
   "metadata": {},
   "outputs": [
    {
     "name": "stdout",
     "output_type": "stream",
     "text": [
      "['20120125']\n",
      "['20120313']\n",
      "['20120425']\n",
      "['20120620']\n",
      "['20120801']\n",
      "['20120913']\n",
      "['20121024']\n",
      "['20121212']\n",
      "['20110126']\n",
      "['20110315']\n",
      "['20110427']\n",
      "['20110622']\n",
      "['20110809']\n",
      "['20110921']\n",
      "['20111102']\n",
      "['20111213']\n",
      "['20100127']\n",
      "['20100316']\n",
      "['20100428']\n",
      "['20100623']\n",
      "['20100810']\n",
      "['20100921']\n",
      "['20101103']\n",
      "['20101214']\n",
      "['20090128']\n",
      "['20090318']\n",
      "['20090429']\n",
      "['20090624']\n",
      "['20090812']\n",
      "['20090923']\n",
      "['20091104']\n",
      "['20091216']\n",
      "['20080130']\n",
      "['20080318']\n",
      "['20080430']\n",
      "['20080805']\n",
      "['20080916']\n",
      "['20081029']\n",
      "['20081216']\n",
      "['20070131']\n",
      "['20070321']\n",
      "['20070509']\n",
      "['20070628']\n",
      "['20070807']\n",
      "['20070918']\n",
      "['20071031']\n",
      "['20071211']\n",
      "['20060131']\n",
      "['20060328']\n",
      "['20060510']\n",
      "['20060629']\n",
      "['20060808']\n",
      "['20060920']\n",
      "['20061025']\n",
      "['20061212']\n",
      "['20050202']\n",
      "['20050322']\n",
      "['20050503']\n",
      "['20050630']\n",
      "['20050809']\n",
      "['20050920']\n",
      "['20051101']\n",
      "['20051213']\n",
      "['20040128']\n",
      "['20040316']\n",
      "['20040504']\n",
      "['20040630']\n",
      "['20040810']\n",
      "['20040921']\n",
      "['20041110']\n",
      "['20041214']\n",
      "['20030129']\n",
      "['20030318']\n",
      "['20030506']\n",
      "['20030625']\n",
      "['20030812']\n",
      "['20030916']\n",
      "['20031028']\n",
      "['20031209']\n",
      "['20020130']\n",
      "['20020319']\n",
      "['20020507']\n",
      "['20020626']\n",
      "['20020813']\n",
      "['20020924']\n",
      "['20021106']\n",
      "['20021210']\n",
      "['20010131']\n",
      "['20010320']\n",
      "['20010515']\n",
      "['20010627']\n",
      "['20010821']\n",
      "['20011002']\n",
      "['20011106']\n",
      "['20011211']\n",
      "['20000202']\n",
      "['20000321']\n",
      "['20000516']\n",
      "['20000628']\n",
      "['20000822']\n",
      "['20001003']\n",
      "['20001115']\n",
      "['20001219']\n",
      "['19990202']\n",
      "['19990330']\n",
      "['19990518']\n",
      "['19990629']\n",
      "['19990824']\n",
      "['19991005']\n",
      "['19991116']\n",
      "['19991221']\n",
      "['19980203']\n",
      "['19980331']\n",
      "['19980519']\n",
      "['19980630']\n",
      "['19980818']\n",
      "['19980929']\n",
      "['19981117']\n",
      "['19981222']\n",
      "['19970204']\n",
      "['19970325']\n",
      "['19970520']\n",
      "['19970701']\n",
      "['19970819']\n",
      "['19970930']\n",
      "['19971112']\n",
      "['19971216']\n",
      "['19960130']\n",
      "['19960326']\n",
      "['19960521']\n",
      "['19960702']\n",
      "['19960820']\n",
      "['19960924']\n",
      "['19961113']\n",
      "['19961217']\n"
     ]
    }
   ],
   "source": [
    "for i in historical_minutes_fomc:\n",
    "    print(i[0])"
   ]
  }
 ],
 "metadata": {
  "kernelspec": {
   "display_name": "Python 3",
   "language": "python",
   "name": "python3"
  },
  "language_info": {
   "codemirror_mode": {
    "name": "ipython",
    "version": 3
   },
   "file_extension": ".py",
   "mimetype": "text/x-python",
   "name": "python",
   "nbconvert_exporter": "python",
   "pygments_lexer": "ipython3",
   "version": "3.6.5"
  }
 },
 "nbformat": 4,
 "nbformat_minor": 2
}
