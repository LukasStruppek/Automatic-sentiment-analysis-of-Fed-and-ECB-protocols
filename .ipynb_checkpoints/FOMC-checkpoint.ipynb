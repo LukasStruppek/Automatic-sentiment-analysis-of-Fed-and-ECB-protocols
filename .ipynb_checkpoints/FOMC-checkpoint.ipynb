{
 "cells": [
  {
   "cell_type": "markdown",
   "metadata": {},
   "source": [
    "## Imports"
   ]
  },
  {
   "cell_type": "code",
   "execution_count": 2,
   "metadata": {},
   "outputs": [],
   "source": [
    "# Imports\n",
    "import requests\n",
    "import re\n",
    "from bs4 import BeautifulSoup"
   ]
  },
  {
   "cell_type": "markdown",
   "metadata": {},
   "source": [
    "## Misc. methods"
   ]
  },
  {
   "cell_type": "code",
   "execution_count": 8,
   "metadata": {},
   "outputs": [],
   "source": [
    "# Filters the content out of a minutes-page (FOMC)\n",
    "def filter_text(url):\n",
    "    page = requests.get(url)\n",
    "    soup = BeautifulSoup(page.content, 'html.parser')\n",
    "    text = soup.find(id = \"article\").get_text()\n",
    "    return text"
   ]
  },
  {
   "cell_type": "markdown",
   "metadata": {},
   "source": [
    "## Retrieving current FOMC minutes (2013 - today)"
   ]
  },
  {
   "cell_type": "code",
   "execution_count": 46,
   "metadata": {},
   "outputs": [],
   "source": [
    "# Get page content\n",
    "current_archive_page = requests.get(\"https://www.federalreserve.gov/monetarypolicy/fomccalendars.htm\")\n",
    "current_fomc_soup = BeautifulSoup(current_archive_page.content, 'html.parser')\n",
    "current_fomc_blocks = current_fomc_soup.select(\".fomc-meeting__minutes\")"
   ]
  },
  {
   "cell_type": "code",
   "execution_count": 47,
   "metadata": {},
   "outputs": [],
   "source": [
    "# Get URLs for minutes\n",
    "# Structure of urls-list: (date, url)\n",
    "current_fomc_urls = []\n",
    "for m in current_fomc_blocks:\n",
    "    for a in m.select(\"a\"):\n",
    "        if(\".htm\" in a[\"href\"]):\n",
    "            url = \"https://www.federalreserve.gov\" + a[\"href\"]\n",
    "            date = re.findall('\\d+', url)\n",
    "            current_fomc_urls.append((date, url))"
   ]
  },
  {
   "cell_type": "code",
   "execution_count": 48,
   "metadata": {},
   "outputs": [],
   "source": [
    "# Extract the content of minutes pages\n",
    "# Structure of current_minutes_fomc: (date, url, text)\n",
    "current_minutes_fomc = []\n",
    "for url in current_fomc_urls:\n",
    "    article = [];\n",
    "    article.append(url[0])\n",
    "    article.append(url[1])\n",
    "    article.append(filter_text(url[1]))\n",
    "    current_minutes_fomc.append(article)"
   ]
  },
  {
   "cell_type": "markdown",
   "metadata": {},
   "source": [
    "## Retrieving historical FOMC minutes (2012 and older)"
   ]
  },
  {
   "cell_type": "code",
   "execution_count": 20,
   "metadata": {},
   "outputs": [],
   "source": [
    "# Get page content\n",
    "historical_archive_page = requests.get(\"https://www.federalreserve.gov/monetarypolicy/fomc_historical_year.htm\")\n",
    "historical_fomc_soup = BeautifulSoup(historical_archive_page.content, 'html.parser')\n",
    "historical_fomc_minutes_pages = historical_fomc_soup.select(\".fomc-meeting__minutes\")"
   ]
  },
  {
   "cell_type": "code",
   "execution_count": 75,
   "metadata": {},
   "outputs": [],
   "source": [
    "# Get url for each historical year\n",
    "blocks = historical_fomc_soup.select(\".panel-default\")\n",
    "urls_per_year = []\n",
    "for block in blocks:\n",
    "    for a in block.select(\"a\"):\n",
    "        urls_per_year.append(\"https://www.federalreserve.gov\" + a[\"href\"])"
   ]
  },
  {
   "cell_type": "code",
   "execution_count": 83,
   "metadata": {},
   "outputs": [],
   "source": [
    "# Get minutes for each historical year\n",
    "historical_fomc_minutes = []\n",
    "for link in urls_per_year:\n",
    "    page = requests.get(link)\n",
    "    soup = BeautifulSoup(page.content, \"html.parser\")\n",
    "    blocks = soup.select(\".panel-default\")\n",
    "    for block in blocks:\n",
    "        for a in block.select(\"a\"):\n",
    "            if (\"minutes\" in a[\"href\"]) and (\".htm\" in a[\"href\"]) and (\"#\" not in a[\"href\"]):\n",
    "                if(\"https://www.federalreserve.gov\" in a[\"href\"]):\n",
    "                    url = a[\"href\"]\n",
    "                else:\n",
    "                    url= \"https://www.federalreserve.gov\" + a[\"href\"]\n",
    "                date = re.findall('\\d+', url)\n",
    "                historical_fomc_minutes.append((date, url))"
   ]
  },
  {
   "cell_type": "markdown",
   "metadata": {},
   "source": [
    "# Testing Area"
   ]
  },
  {
   "cell_type": "code",
   "execution_count": 86,
   "metadata": {},
   "outputs": [
    {
     "data": {
      "text/plain": [
       "[(['19960130'], 'https://www.federalreserve.gov/fomc/minutes/19960130.htm'),\n",
       " (['19960326'], 'https://www.federalreserve.gov/fomc/minutes/19960326.htm'),\n",
       " (['19960521'], 'https://www.federalreserve.gov/fomc/minutes/19960521.htm'),\n",
       " (['19960702'], 'https://www.federalreserve.gov/fomc/minutes/19960702.htm'),\n",
       " (['19960820'], 'https://www.federalreserve.gov/fomc/minutes/19960820.htm'),\n",
       " (['19960924'], 'https://www.federalreserve.gov/fomc/minutes/19960924.htm'),\n",
       " (['19961113'], 'https://www.federalreserve.gov/fomc/minutes/19961113.htm'),\n",
       " (['19961217'], 'https://www.federalreserve.gov/fomc/minutes/19961217.htm'),\n",
       " (['19970204'], 'https://www.federalreserve.gov/fomc/minutes/19970204.htm'),\n",
       " (['19970325'], 'https://www.federalreserve.gov/fomc/minutes/19970325.htm'),\n",
       " (['19970520'], 'https://www.federalreserve.gov/fomc/minutes/19970520.htm'),\n",
       " (['19970701'], 'https://www.federalreserve.gov/fomc/minutes/19970701.htm'),\n",
       " (['19970819'], 'https://www.federalreserve.gov/fomc/minutes/19970819.htm'),\n",
       " (['19970930'], 'https://www.federalreserve.gov/fomc/minutes/19970930.htm'),\n",
       " (['19971112'], 'https://www.federalreserve.gov/fomc/minutes/19971112.htm'),\n",
       " (['19971216'], 'https://www.federalreserve.gov/fomc/minutes/19971216.htm'),\n",
       " (['19980203'], 'https://www.federalreserve.gov/fomc/minutes/19980203.htm'),\n",
       " (['19980331'], 'https://www.federalreserve.gov/fomc/minutes/19980331.htm'),\n",
       " (['19980519'], 'https://www.federalreserve.gov/fomc/minutes/19980519.htm'),\n",
       " (['19980630'], 'https://www.federalreserve.gov/fomc/minutes/19980630.htm'),\n",
       " (['19980818'], 'https://www.federalreserve.gov/fomc/minutes/19980818.htm'),\n",
       " (['19980929'], 'https://www.federalreserve.gov/fomc/minutes/19980929.htm'),\n",
       " (['19981117'], 'https://www.federalreserve.gov/fomc/minutes/19981117.htm'),\n",
       " (['19981222'], 'https://www.federalreserve.gov/fomc/minutes/19981222.htm'),\n",
       " (['19990202'], 'https://www.federalreserve.gov/fomc/minutes/19990202.htm'),\n",
       " (['19990330'], 'https://www.federalreserve.gov/fomc/minutes/19990330.htm'),\n",
       " (['19990518'], 'https://www.federalreserve.gov/fomc/minutes/19990518.htm'),\n",
       " (['19990629'], 'https://www.federalreserve.gov/fomc/minutes/19990629.htm'),\n",
       " (['19990824'], 'https://www.federalreserve.gov/fomc/minutes/19990824.htm'),\n",
       " (['19991005'], 'https://www.federalreserve.gov/fomc/minutes/19991005.htm'),\n",
       " (['19991116'], 'https://www.federalreserve.gov/fomc/minutes/19991116.htm'),\n",
       " (['19991221'], 'https://www.federalreserve.gov/fomc/minutes/19991221.htm'),\n",
       " (['20000202'], 'https://www.federalreserve.gov/fomc/minutes/20000202.htm'),\n",
       " (['20000321'], 'https://www.federalreserve.gov/fomc/minutes/20000321.htm'),\n",
       " (['20000516'], 'https://www.federalreserve.gov/fomc/minutes/20000516.htm'),\n",
       " (['20000628'], 'https://www.federalreserve.gov/fomc/minutes/20000628.htm'),\n",
       " (['20000822'], 'https://www.federalreserve.gov/fomc/minutes/20000822.htm'),\n",
       " (['20001003'], 'https://www.federalreserve.gov/fomc/minutes/20001003.htm'),\n",
       " (['20001115'], 'https://www.federalreserve.gov/fomc/minutes/20001115.htm'),\n",
       " (['20001219'], 'https://www.federalreserve.gov/fomc/minutes/20001219.htm'),\n",
       " (['20010131'], 'https://www.federalreserve.gov/fomc/minutes/20010131.htm'),\n",
       " (['20010320'], 'https://www.federalreserve.gov/fomc/minutes/20010320.htm'),\n",
       " (['20010515'], 'https://www.federalreserve.gov/fomc/minutes/20010515.htm'),\n",
       " (['20010627'], 'https://www.federalreserve.gov/fomc/minutes/20010627.htm'),\n",
       " (['20010821'], 'https://www.federalreserve.gov/fomc/minutes/20010821.htm'),\n",
       " (['20011002'], 'https://www.federalreserve.gov/fomc/minutes/20011002.htm'),\n",
       " (['20011106'], 'https://www.federalreserve.gov/fomc/minutes/20011106.htm'),\n",
       " (['20011211'], 'https://www.federalreserve.gov/fomc/minutes/20011211.htm'),\n",
       " (['20020130'], 'https://www.federalreserve.gov/fomc/minutes/20020130.htm'),\n",
       " (['20020319'], 'https://www.federalreserve.gov/fomc/minutes/20020319.htm'),\n",
       " (['20020507'], 'https://www.federalreserve.gov/fomc/minutes/20020507.htm'),\n",
       " (['20020626'], 'https://www.federalreserve.gov/fomc/minutes/20020626.htm'),\n",
       " (['20020813'], 'https://www.federalreserve.gov/fomc/minutes/20020813.htm'),\n",
       " (['20020924'], 'https://www.federalreserve.gov/fomc/minutes/20020924.htm'),\n",
       " (['20021106'], 'https://www.federalreserve.gov/fomc/minutes/20021106.htm'),\n",
       " (['20021210'], 'https://www.federalreserve.gov/fomc/minutes/20021210.htm'),\n",
       " (['20030129'], 'https://www.federalreserve.gov/fomc/minutes/20030129.htm'),\n",
       " (['20030318'], 'https://www.federalreserve.gov/fomc/minutes/20030318.htm'),\n",
       " (['20030506'], 'https://www.federalreserve.gov/fomc/minutes/20030506.htm'),\n",
       " (['20030625'], 'https://www.federalreserve.gov/fomc/minutes/20030625.htm'),\n",
       " (['20030812'], 'https://www.federalreserve.gov/fomc/minutes/20030812.htm'),\n",
       " (['20030916'], 'https://www.federalreserve.gov/fomc/minutes/20030916.htm'),\n",
       " (['20031028'], 'https://www.federalreserve.gov/fomc/minutes/20031028.htm'),\n",
       " (['20031209'], 'https://www.federalreserve.gov/fomc/minutes/20031209.htm'),\n",
       " (['20040128'], 'https://www.federalreserve.gov/fomc/minutes/20040128.htm'),\n",
       " (['20040316'], 'https://www.federalreserve.gov/fomc/minutes/20040316.htm'),\n",
       " (['20040504'], 'https://www.federalreserve.gov/fomc/minutes/20040504.htm'),\n",
       " (['20040630'], 'https://www.federalreserve.gov/fomc/minutes/20040630.htm'),\n",
       " (['20040810'], 'https://www.federalreserve.gov/fomc/minutes/20040810.htm'),\n",
       " (['20040921'], 'https://www.federalreserve.gov/fomc/minutes/20040921.htm'),\n",
       " (['20041110'], 'https://www.federalreserve.gov/fomc/minutes/20041110.htm'),\n",
       " (['20041214'], 'https://www.federalreserve.gov/fomc/minutes/20041214.htm'),\n",
       " (['20050202'], 'https://www.federalreserve.gov/fomc/minutes/20050202.htm'),\n",
       " (['20050322'], 'https://www.federalreserve.gov/fomc/minutes/20050322.htm'),\n",
       " (['20050503'], 'https://www.federalreserve.gov/fomc/minutes/20050503.htm'),\n",
       " (['20050630'], 'https://www.federalreserve.gov/fomc/minutes/20050630.htm'),\n",
       " (['20050809'], 'https://www.federalreserve.gov/fomc/minutes/20050809.htm'),\n",
       " (['20050920'], 'https://www.federalreserve.gov/fomc/minutes/20050920.htm'),\n",
       " (['20051101'], 'https://www.federalreserve.gov/fomc/minutes/20051101.htm'),\n",
       " (['20051213'], 'https://www.federalreserve.gov/fomc/minutes/20051213.htm'),\n",
       " (['20060131'], 'https://www.federalreserve.gov/fomc/minutes/20060131.htm'),\n",
       " (['20060328'], 'https://www.federalreserve.gov/fomc/minutes/20060328.htm'),\n",
       " (['20060510'], 'https://www.federalreserve.gov/fomc/minutes/20060510.htm'),\n",
       " (['20060629'], 'https://www.federalreserve.gov/fomc/minutes/20060629.htm'),\n",
       " (['20060808'], 'https://www.federalreserve.gov/fomc/minutes/20060808.htm'),\n",
       " (['20060920'], 'https://www.federalreserve.gov/fomc/minutes/20060920.htm'),\n",
       " (['20061025'], 'https://www.federalreserve.gov/fomc/minutes/20061025.htm'),\n",
       " (['20061212'], 'https://www.federalreserve.gov/fomc/minutes/20061212.htm'),\n",
       " (['20070131'], 'https://www.federalreserve.gov/fomc/minutes/20070131.htm'),\n",
       " (['20070321'], 'https://www.federalreserve.gov/fomc/minutes/20070321.htm'),\n",
       " (['20070509'], 'https://www.federalreserve.gov/fomc/minutes/20070509.htm'),\n",
       " (['20070628'], 'https://www.federalreserve.gov/fomc/minutes/20070628.htm'),\n",
       " (['20070807'], 'https://www.federalreserve.gov/fomc/minutes/20070807.htm'),\n",
       " (['20070918'], 'https://www.federalreserve.gov/fomc/minutes/20070918.htm'),\n",
       " (['20071031'],\n",
       "  'https://www.federalreserve.gov/monetarypolicy/fomcminutes20071031.htm'),\n",
       " (['20071211'],\n",
       "  'https://www.federalreserve.gov/monetarypolicy/fomcminutes20071211.htm'),\n",
       " (['20080130'],\n",
       "  'https://www.federalreserve.gov/monetarypolicy/fomcminutes20080130.htm'),\n",
       " (['20080318'],\n",
       "  'https://www.federalreserve.gov/monetarypolicy/fomcminutes20080318.htm'),\n",
       " (['20080430'],\n",
       "  'https://www.federalreserve.gov/monetarypolicy/fomcminutes20080430.htm'),\n",
       " (['20080805'],\n",
       "  'https://www.federalreserve.gov/monetarypolicy/fomcminutes20080805.htm'),\n",
       " (['20080916'],\n",
       "  'https://www.federalreserve.gov/monetarypolicy/fomcminutes20080916.htm'),\n",
       " (['20081029'],\n",
       "  'https://www.federalreserve.gov/monetarypolicy/fomcminutes20081029.htm'),\n",
       " (['20081216'],\n",
       "  'https://www.federalreserve.gov/monetarypolicy/fomcminutes20081216.htm'),\n",
       " (['20090128'],\n",
       "  'https://www.federalreserve.gov/monetarypolicy/fomcminutes20090128.htm'),\n",
       " (['20090318'],\n",
       "  'https://www.federalreserve.gov/monetarypolicy/fomcminutes20090318.htm'),\n",
       " (['20090429'],\n",
       "  'https://www.federalreserve.gov/monetarypolicy/fomcminutes20090429.htm'),\n",
       " (['20090624'],\n",
       "  'https://www.federalreserve.gov/monetarypolicy/fomcminutes20090624.htm'),\n",
       " (['20090812'],\n",
       "  'https://www.federalreserve.gov/monetarypolicy/fomcminutes20090812.htm'),\n",
       " (['20090923'],\n",
       "  'https://www.federalreserve.gov/monetarypolicy/fomcminutes20090923.htm'),\n",
       " (['20091104'],\n",
       "  'https://www.federalreserve.gov/monetarypolicy/fomcminutes20091104.htm'),\n",
       " (['20091216'],\n",
       "  'https://www.federalreserve.gov/monetarypolicy/fomcminutes20091216.htm'),\n",
       " (['20100127'],\n",
       "  'https://www.federalreserve.gov/monetarypolicy/fomcminutes20100127.htm'),\n",
       " (['20100316'],\n",
       "  'https://www.federalreserve.gov/monetarypolicy/fomcminutes20100316.htm'),\n",
       " (['20100428'],\n",
       "  'https://www.federalreserve.gov/monetarypolicy/fomcminutes20100428.htm'),\n",
       " (['20100623'],\n",
       "  'https://www.federalreserve.gov/monetarypolicy/fomcminutes20100623.htm'),\n",
       " (['20100810'],\n",
       "  'https://www.federalreserve.gov/monetarypolicy/fomcminutes20100810.htm'),\n",
       " (['20100921'],\n",
       "  'https://www.federalreserve.gov/monetarypolicy/fomcminutes20100921.htm'),\n",
       " (['20101103'],\n",
       "  'https://www.federalreserve.gov/monetarypolicy/fomcminutes20101103.htm'),\n",
       " (['20101214'],\n",
       "  'https://www.federalreserve.gov/monetarypolicy/fomcminutes20101214.htm'),\n",
       " (['20110126'],\n",
       "  'https://www.federalreserve.gov/monetarypolicy/fomcminutes20110126.htm'),\n",
       " (['20110315'],\n",
       "  'https://www.federalreserve.gov/monetarypolicy/fomcminutes20110315.htm'),\n",
       " (['20110427'],\n",
       "  'https://www.federalreserve.gov/monetarypolicy/fomcminutes20110427.htm'),\n",
       " (['20110622'],\n",
       "  'https://www.federalreserve.gov/monetarypolicy/fomcminutes20110622.htm'),\n",
       " (['20110809'],\n",
       "  'https://www.federalreserve.gov/monetarypolicy/fomcminutes20110809.htm'),\n",
       " (['20110921'],\n",
       "  'https://www.federalreserve.gov/monetarypolicy/fomcminutes20110921.htm'),\n",
       " (['20111102'],\n",
       "  'https://www.federalreserve.gov/monetarypolicy/fomcminutes20111102.htm'),\n",
       " (['20111213'],\n",
       "  'https://www.federalreserve.gov/monetarypolicy/fomcminutes20111213.htm'),\n",
       " (['20120125'],\n",
       "  'https://www.federalreserve.gov/monetarypolicy/fomcminutes20120125.htm'),\n",
       " (['20120313'],\n",
       "  'https://www.federalreserve.gov/monetarypolicy/fomcminutes20120313.htm'),\n",
       " (['20120425'],\n",
       "  'https://www.federalreserve.gov/monetarypolicy/fomcminutes20120425.htm'),\n",
       " (['20120620'],\n",
       "  'https://www.federalreserve.gov/monetarypolicy/fomcminutes20120620.htm'),\n",
       " (['20120801'],\n",
       "  'https://www.federalreserve.gov/monetarypolicy/fomcminutes20120801.htm'),\n",
       " (['20120913'],\n",
       "  'https://www.federalreserve.gov/monetarypolicy/fomcminutes20120913.htm'),\n",
       " (['20121024'],\n",
       "  'https://www.federalreserve.gov/monetarypolicy/fomcminutes20121024.htm'),\n",
       " (['20121212'],\n",
       "  'https://www.federalreserve.gov/monetarypolicy/fomcminutes20121212.htm')]"
      ]
     },
     "execution_count": 86,
     "metadata": {},
     "output_type": "execute_result"
    }
   ],
   "source": [
    "sorted(historical_fomc_minutes)"
   ]
  }
 ],
 "metadata": {
  "kernelspec": {
   "display_name": "Python 3",
   "language": "python",
   "name": "python3"
  },
  "language_info": {
   "codemirror_mode": {
    "name": "ipython",
    "version": 3
   },
   "file_extension": ".py",
   "mimetype": "text/x-python",
   "name": "python",
   "nbconvert_exporter": "python",
   "pygments_lexer": "ipython3",
   "version": "3.6.5"
  }
 },
 "nbformat": 4,
 "nbformat_minor": 2
}
