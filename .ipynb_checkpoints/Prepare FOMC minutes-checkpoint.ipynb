{
 "cells": [
  {
   "cell_type": "markdown",
   "metadata": {},
   "source": [
    "# Imports"
   ]
  },
  {
   "cell_type": "code",
   "execution_count": 1,
   "metadata": {},
   "outputs": [],
   "source": [
    "import re\n",
    "from bs4 import BeautifulSoup"
   ]
  },
  {
   "cell_type": "markdown",
   "metadata": {},
   "source": [
    "# Global Values"
   ]
  },
  {
   "cell_type": "code",
   "execution_count": null,
   "metadata": {},
   "outputs": [],
   "source": []
  },
  {
   "cell_type": "markdown",
   "metadata": {},
   "source": [
    "# Splitting algorithms"
   ]
  },
  {
   "cell_type": "code",
   "execution_count": 2,
   "metadata": {
    "scrolled": false
   },
   "outputs": [],
   "source": [
    "# Blockquotes are not saved\n",
    "def split_2009_until_today(url):\n",
    "    with open(url) as file:\n",
    "        soup = BeautifulSoup(file.read(), 'html.parser')\n",
    "    date = \"\".join(re.findall('\\d\\d\\d\\d\\d+', url))\n",
    "    if int(date[:4]) >= 2012:\n",
    "        contents = soup.find(id = \"article\").find_all(re.compile(\"p|blockquote\"))\n",
    "    else:\n",
    "        contents = soup.find(id = \"leftText\").find_all(re.compile(\"p|blockquote\"))\n",
    "    contents_cleaned = []\n",
    "    section = ''\n",
    "    section_set = False\n",
    "    for i in range(0, len(contents)):        \n",
    "        if re.search('<strong>', str(contents[i])):\n",
    "            if re.search('Open Market|Financial Market', str(contents[i].find(\"strong\")), re.IGNORECASE):\n",
    "                section = 'Open Market'\n",
    "                section_set = True\n",
    "            elif re.search('Staff Review|Inflation Analysis|Structural Unemployment', str(contents[i].find(\"strong\")), re.IGNORECASE):\n",
    "                section = 'Staff Review'\n",
    "                section_set = True\n",
    "            elif re.search('Participants', str(contents[i].find(\"strong\")), re.IGNORECASE):\n",
    "                section = 'FOMC members'\n",
    "                section_set = True\n",
    "            elif re.search('Committee Policy Action', str(contents[i].find(\"strong\")), re.IGNORECASE):\n",
    "                section = 'Policy'\n",
    "                section_set = True\n",
    "            elif re.search('Voting', str(contents[i].find(\"strong\")), re.IGNORECASE) or re.search('Vote', str(contents[i].find(\"strong\")), re.IGNORECASE):\n",
    "                break\n",
    "        if section != '':\n",
    "            string = contents[i].get_text().strip()\n",
    "            string = re.sub('\\n', '.', string)\n",
    "            string = re.sub(' \\.', '', string)\n",
    "            string = re.sub(' \\.', '', string)\n",
    "            string = re.sub(' +', ' ', string)\n",
    "            if section_set == True:\n",
    "                string = string.split(\".\")[1:]\n",
    "                string = ''.join(string)\n",
    "                section_set = False\n",
    "            if int(date[:4]) <= 2011:\n",
    "                if re.search(\"discussion\", string) and re.search(\"members\", string) and section == \"FOMC members\":\n",
    "                    section = 'Policy'\n",
    "            if len(string) > 200 and len(string) < 10000:\n",
    "                if re.search(\"In conducting operations pursuant to the authorization\", string):\n",
    "                    section = ''\n",
    "                    continue\n",
    "                contents_cleaned.append((section, string)) \n",
    "    return contents_cleaned"
   ]
  },
  {
   "cell_type": "code",
   "execution_count": 83,
   "metadata": {},
   "outputs": [],
   "source": [
    "def split_2008_and_older(url):\n",
    "    with open(url) as file:\n",
    "        soup = BeautifulSoup(file.read(), 'html.parser')\n",
    "    date = \"\".join(re.findall('\\d\\d\\d\\d\\d+', url))\n",
    "    contents = soup.find_all(\"p\")\n",
    "    contents_split = []\n",
    "    for p in contents:\n",
    "        if len(p) > 1:\n",
    "            contents_split.append(p.split(\"\\n\"))\n",
    "        else:\n",
    "            contents_split.append(p)\n",
    "    contents_cleaned = []\n",
    "    section = ''\n",
    "    number_sections_set = 0\n",
    "    counter = 1\n",
    "    for p in contents:\n",
    "        counter = counter + 1\n",
    "        text = p.get_text().strip()\n",
    "        if number_sections_set == 0:\n",
    "            if text.startswith(\"The Manager of the System Open Market Account\"):\n",
    "                section = 'Open Market'\n",
    "                number_sections_set = 1\n",
    "                \n",
    "        elif number_sections_set == 1:\n",
    "            if 'forecast' in text and 'staff' in text:\n",
    "                section = 'Staff Review'\n",
    "                number_sections_set = 2\n",
    "                \n",
    "        elif number_sections_set == 2:\n",
    "            if 'participants' in text and 'economic situation' in text or 'economic outlook' in text:\n",
    "                section = 'FOMC members'\n",
    "                number_sections_set = 3\n",
    "                \n",
    "        elif number_sections_set == 3:\n",
    "            if 'Committee' in text and 'monetary policy' in text:\n",
    "                section = 'Policy'\n",
    "                number_sections_set = 4\n",
    "                \n",
    "        elif number_sections_set == 4:\n",
    "            if 'Notation Vote' in text:\n",
    "                section = ''\n",
    "        if section != '':\n",
    "            if len(text) > 10000:\n",
    "                print(text)\n",
    "            if len(text) > 200 and len(text) < 10000:\n",
    "                text = re.sub(r'\\x92', '', text)\n",
    "                text = re.sub(r'\\x93', '', text)\n",
    "                text = re.sub(r'\\x94', '', text)\n",
    "                text = re.sub('\\n', '.', text)\n",
    "                text = re.sub(' \\.', '', text)\n",
    "                text = re.sub(' \\.', '', text)\n",
    "                text = re.sub(' +', ' ', text)\n",
    "                contents_cleaned.append((section, text)) \n",
    "    if number_sections_set < 4:\n",
    "        print(\"Nicht alle Sektionen gesetzt, Fehler bei Sektion \" + str((number_sections_set + 1)))\n",
    "    return contents_cleaned"
   ]
  },
  {
   "cell_type": "code",
   "execution_count": 84,
   "metadata": {},
   "outputs": [
    {
     "ename": "TypeError",
     "evalue": "'NoneType' object is not callable",
     "output_type": "error",
     "traceback": [
      "\u001b[1;31m---------------------------------------------------------------------------\u001b[0m",
      "\u001b[1;31mTypeError\u001b[0m                                 Traceback (most recent call last)",
      "\u001b[1;32m<ipython-input-84-2db4d313ffe4>\u001b[0m in \u001b[0;36m<module>\u001b[1;34m()\u001b[0m\n\u001b[1;32m----> 1\u001b[1;33m \u001b[0mx\u001b[0m \u001b[1;33m=\u001b[0m \u001b[0msplit_2008_and_older\u001b[0m\u001b[1;33m(\u001b[0m\u001b[1;34m\"minutes_html/20071211_minutes_html.txt\"\u001b[0m\u001b[1;33m)\u001b[0m\u001b[1;33m\u001b[0m\u001b[0m\n\u001b[0m",
      "\u001b[1;32m<ipython-input-83-4810050d0f1c>\u001b[0m in \u001b[0;36msplit_2008_and_older\u001b[1;34m(url)\u001b[0m\n\u001b[0;32m      7\u001b[0m     \u001b[1;32mfor\u001b[0m \u001b[0mp\u001b[0m \u001b[1;32min\u001b[0m \u001b[0mcontents\u001b[0m\u001b[1;33m:\u001b[0m\u001b[1;33m\u001b[0m\u001b[0m\n\u001b[0;32m      8\u001b[0m         \u001b[1;32mif\u001b[0m \u001b[0mlen\u001b[0m\u001b[1;33m(\u001b[0m\u001b[0mp\u001b[0m\u001b[1;33m)\u001b[0m \u001b[1;33m>\u001b[0m \u001b[1;36m1\u001b[0m\u001b[1;33m:\u001b[0m\u001b[1;33m\u001b[0m\u001b[0m\n\u001b[1;32m----> 9\u001b[1;33m             \u001b[0mcontents_split\u001b[0m\u001b[1;33m.\u001b[0m\u001b[0mappend\u001b[0m\u001b[1;33m(\u001b[0m\u001b[0mp\u001b[0m\u001b[1;33m.\u001b[0m\u001b[0msplit\u001b[0m\u001b[1;33m(\u001b[0m\u001b[1;34m\"\\n\"\u001b[0m\u001b[1;33m)\u001b[0m\u001b[1;33m)\u001b[0m\u001b[1;33m\u001b[0m\u001b[0m\n\u001b[0m\u001b[0;32m     10\u001b[0m         \u001b[1;32melse\u001b[0m\u001b[1;33m:\u001b[0m\u001b[1;33m\u001b[0m\u001b[0m\n\u001b[0;32m     11\u001b[0m             \u001b[0mcontents_split\u001b[0m\u001b[1;33m.\u001b[0m\u001b[0mappend\u001b[0m\u001b[1;33m(\u001b[0m\u001b[0mp\u001b[0m\u001b[1;33m)\u001b[0m\u001b[1;33m\u001b[0m\u001b[0m\n",
      "\u001b[1;31mTypeError\u001b[0m: 'NoneType' object is not callable"
     ]
    }
   ],
   "source": [
    "x = split_2008_and_older(\"minutes_html/20071211_minutes_html.txt\")"
   ]
  }
 ],
 "metadata": {
  "kernelspec": {
   "display_name": "Python 2",
   "language": "python",
   "name": "python2"
  },
  "language_info": {
   "codemirror_mode": {
    "name": "ipython",
    "version": 2
   },
   "file_extension": ".py",
   "mimetype": "text/x-python",
   "name": "python",
   "nbconvert_exporter": "python",
   "pygments_lexer": "ipython2",
   "version": "2.7.14"
  }
 },
 "nbformat": 4,
 "nbformat_minor": 2
}
