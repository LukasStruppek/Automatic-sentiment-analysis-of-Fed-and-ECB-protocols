{
 "cells": [
  {
   "cell_type": "markdown",
   "metadata": {},
   "source": [
    "## Imports"
   ]
  },
  {
   "cell_type": "code",
   "execution_count": 5,
   "metadata": {},
   "outputs": [],
   "source": [
    "# Imports\n",
    "import requests\n",
    "import re\n",
    "from bs4 import BeautifulSoup\n",
    "import urllib2\n",
    "import textract"
   ]
  },
  {
   "cell_type": "markdown",
   "metadata": {},
   "source": [
    "## Global Values"
   ]
  },
  {
   "cell_type": "code",
   "execution_count": 6,
   "metadata": {},
   "outputs": [],
   "source": [
    "# parent folder of the documents\n",
    "parent_folder = \"\"\n",
    "# folder to save html in\n",
    "full_html_folder = \"full_html\"\n",
    "# folder to save article-html in\n",
    "minutes_html_folder = \"minutes_html\"\n",
    "# folder to save minutes plain text in\n",
    "text_folder = \"plain_text\"\n",
    "# folder to save pdf files in\n",
    "pdf_folder = \"pdf_files\"\n",
    "# year from which on to save\n",
    "lower_bound_year = 2009\n",
    "# year up to which to save\n",
    "upper_bound_year = 2009"
   ]
  },
  {
   "cell_type": "markdown",
   "metadata": {},
   "source": [
    "## Misc. methods"
   ]
  },
  {
   "cell_type": "code",
   "execution_count": 62,
   "metadata": {},
   "outputs": [],
   "source": [
    "# Filters the content out of a minutes-page (FOMC)\n",
    "def filter_text(url, save = False):\n",
    "    date = \"\".join(re.findall('\\d\\d\\d\\d\\d+', url))\n",
    "    if \".pdf\" in url:\n",
    "        filename_pdf = date + \"_fomc_document\"\n",
    "        filename_text = date + \"_fomc_text\"\n",
    "        save_pdf(url, pdf_folder, filename_pdf)\n",
    "        text = textract.process(parent_folder + pdf_folder + \"/\" + filename_pdf + \".pdf\")\n",
    "        save_content(text, folder = parent_folder + text_folder, filename = filename_text)       \n",
    "    else:  \n",
    "        page = requests.get(url)\n",
    "        soup = BeautifulSoup(page.content, 'html.parser')\n",
    "\n",
    "        content = soup.find(id = \"article\")\n",
    "        if content is not None:\n",
    "            text = content.get_text()\n",
    "            content = content.prettify()\n",
    "\n",
    "        else:\n",
    "            content = soup.find(id = \"leftText\")\n",
    "            if content is not None:\n",
    "                text = content.get_text()\n",
    "                content = content.prettify()\n",
    "\n",
    "            else:\n",
    "                content = soup.find(id = \"content\")\n",
    "                if content is not None:\n",
    "                    text = content.get_text()\n",
    "                    content = content.prettify()\n",
    "\n",
    "                else:\n",
    "                    text = \"\"\n",
    "                    content = \"\"\n",
    "                    tables = soup.find_all(\"table\")\n",
    "                    for table in tables:\n",
    "                        try:\n",
    "                            text += table.get_text()\n",
    "                            content += str(table)\n",
    "                        except UnicodeEncodeError:\n",
    "                            content += str(table)\n",
    "        if date == \"20080130\":\n",
    "            content = soup.find_all(\"p\") \n",
    "            text = ''\n",
    "            content = ''\n",
    "            print(\"hallo\")\n",
    "            for string in content:\n",
    "                text = text + \"\\n\" + string.get_text()\n",
    "                content = content + string\n",
    "            \n",
    "        if save == True:\n",
    "            filename_full_html = date + \"_minutes_full_html\"\n",
    "            filename_text_html = date + \"_minutes_html\"\n",
    "            filename_text = date + \"_minutes\"\n",
    "            save_content(content = soup.prettify(), folder = parent_folder + full_html_folder, filename = filename_full_html)\n",
    "            save_content(content = content, folder = parent_folder + minutes_html_folder, filename = filename_text_html)\n",
    "            save_content(content = text, folder = parent_folder + text_folder, filename = filename_text)\n",
    "\n",
    "    return text"
   ]
  },
  {
   "cell_type": "code",
   "execution_count": 8,
   "metadata": {},
   "outputs": [],
   "source": [
    "# Save soup-object in folder\n",
    "def save_content(content, folder, filename):\n",
    "    with open(folder + \"/\" + filename + \".txt\", \"w\") as file:\n",
    "        try:\n",
    "            file.write(content)\n",
    "        except UnicodeEncodeError:\n",
    "            file.write(str(content.encode(\"utf-8\")))\n",
    "        except TypeError:\n",
    "            file.write(str(content))"
   ]
  },
  {
   "cell_type": "code",
   "execution_count": 9,
   "metadata": {},
   "outputs": [],
   "source": [
    "# Save pdf from url in folder\n",
    "def save_pdf(url, folder, filename):\n",
    "    response = urllib2.urlopen(url)\n",
    "    with open(folder + \"/\" + filename + \".pdf\", \"wb\") as file:\n",
    "        file.write(response.read())"
   ]
  },
  {
   "cell_type": "markdown",
   "metadata": {},
   "source": [
    "## Retrieving content from current FOMC Meetings page (2013 - today)"
   ]
  },
  {
   "cell_type": "code",
   "execution_count": 10,
   "metadata": {},
   "outputs": [],
   "source": [
    "def retrieve_current_fomc_minutes(save = False):\n",
    "    # Get page content of current meetings page\n",
    "    current_fomc_page = requests.get(\"https://www.federalreserve.gov/monetarypolicy/fomccalendars.htm\")\n",
    "    current_fomc_soup = BeautifulSoup(current_fomc_page.content, 'html.parser')\n",
    "    current_fomc_blocks = current_fomc_soup.select(\".fomc-meeting__minutes\")\n",
    "    # Get URL, Date and Minutes of each Meeting\n",
    "    # Structure of each tuple in the list: (date, url, content) \n",
    "    # date format: yyyymmdd\n",
    "    current_minutes_fomc = []\n",
    "    for m in current_fomc_blocks:\n",
    "        for a in m.select(\"a\"):\n",
    "            if(\".htm\" in a[\"href\"]):\n",
    "                url = \"https://www.federalreserve.gov\" + a[\"href\"]\n",
    "                date = \"\".join(re.findall('\\d+', url))\n",
    "                if int(date[0:4]) >= lower_bound_year and int(date[0:4]) <= upper_bound_year:\n",
    "                    article = filter_text(url, save)\n",
    "                    current_minutes_fomc.append((date, url, article))\n",
    "    return current_minutes_fomc"
   ]
  },
  {
   "cell_type": "markdown",
   "metadata": {},
   "source": [
    "## Retrieving content from historical FOMC Meetings page (1996 - 2012)"
   ]
  },
  {
   "cell_type": "code",
   "execution_count": 11,
   "metadata": {},
   "outputs": [],
   "source": [
    "def retrieve_historical_fomc_minutes(save = False):\n",
    "    # Get page content of historical meetings page\n",
    "    historical_fomc_page = requests.get(\"https://www.federalreserve.gov/monetarypolicy/fomc_historical_year.htm\")\n",
    "    historical_fomc_soup = BeautifulSoup(historical_fomc_page.content, 'html.parser')\n",
    "    # historical_archive_minutes_pages = historical_archive_soup.select(\".fomc-meeting__minutes\")\n",
    "    \n",
    "    # Get url for each historical year\n",
    "    blocks = historical_fomc_soup.select(\".panel-default\")\n",
    "    historical_minutes_urls = []\n",
    "    for block in blocks:\n",
    "        for a in block.select(\"a\"):\n",
    "            historical_minutes_urls.append(\"https://www.federalreserve.gov\" + a[\"href\"])\n",
    "            \n",
    "    # Get URL, Date and Minutes of each Meeting\n",
    "    # Structure of each tuple in the list: (date, url, content) \n",
    "    # date format: yyyymmdd\n",
    "    historical_minutes_fomc = []\n",
    "    for url in historical_minutes_urls:\n",
    "        date = \"\".join(re.findall('\\d+', url))\n",
    "        if int(date[0:4]) >= lower_bound_year and int(date[0:4]) <= upper_bound_year:\n",
    "            page = requests.get(url)\n",
    "            soup = BeautifulSoup(page.content, \"html.parser\")\n",
    "            blocks = soup.select(\".panel-default\")\n",
    "            for block in blocks:\n",
    "                for a in block.select(\"a\"):\n",
    "                        # urls are not consistent over the years\n",
    "                    if (\"minutes\" in a[\"href\"] or \"Minutes\" in a) and (\".htm\" in a[\"href\"]) and (\"#\" not in a[\"href\"]):\n",
    "                        if(\"https://www.federalreserve.gov\" in a[\"href\"]):\n",
    "                            url = a[\"href\"]\n",
    "                        else:\n",
    "                            url= \"https://www.federalreserve.gov\" + a[\"href\"]\n",
    "                        # date is extracted from the url\n",
    "                        date = \"\".join(re.findall(\"\\d\\d\\d\\d\\d+\", url))\n",
    "                        article = filter_text(url, save)\n",
    "                        historical_minutes_fomc.append((date, url, article))\n",
    "                    elif (\"fomcmoa\" in a[\"href\"]) and (\".pdf\" in a[\"href\"]):\n",
    "                        url = \"https://www.federalreserve.gov\" + a[\"href\"]\n",
    "                        filter_text(url, save)\n",
    "    return historical_minutes_fomc"
   ]
  },
  {
   "cell_type": "markdown",
   "metadata": {},
   "source": [
    "## main"
   ]
  },
  {
   "cell_type": "code",
   "execution_count": 19,
   "metadata": {},
   "outputs": [],
   "source": [
    "current_minutes_fomc = retrieve_current_fomc_minutes(save = True)\n",
    "historical_minutes_fomc = retrieve_historical_fomc_minutes(save = True)\n",
    "minutes_fomc = sorted(historical_minutes_fomc) + sorted(current_minutes_fomc)"
   ]
  },
  {
   "cell_type": "markdown",
   "metadata": {},
   "source": [
    "# Testing Area"
   ]
  },
  {
   "cell_type": "code",
   "execution_count": 63,
   "metadata": {},
   "outputs": [
    {
     "name": "stdout",
     "output_type": "stream",
     "text": [
      "hallo\n"
     ]
    },
    {
     "data": {
      "text/plain": [
       "''"
      ]
     },
     "execution_count": 63,
     "metadata": {},
     "output_type": "execute_result"
    }
   ],
   "source": [
    "page = requests.get(\"https://www.federalreserve.gov/monetarypolicy/fomcminutes20080130.htm\")\n",
    "filter_text(\"https://www.federalreserve.gov/monetarypolicy/fomcminutes20080130.htm\", save = False)"
   ]
  }
 ],
 "metadata": {
  "kernelspec": {
   "display_name": "Python 2",
   "language": "python",
   "name": "python2"
  },
  "language_info": {
   "codemirror_mode": {
    "name": "ipython",
    "version": 2
   },
   "file_extension": ".py",
   "mimetype": "text/x-python",
   "name": "python",
   "nbconvert_exporter": "python",
   "pygments_lexer": "ipython2",
   "version": "2.7.14"
  }
 },
 "nbformat": 4,
 "nbformat_minor": 2
}
