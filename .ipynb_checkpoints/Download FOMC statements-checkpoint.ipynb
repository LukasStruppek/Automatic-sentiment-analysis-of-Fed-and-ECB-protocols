{
 "cells": [
  {
   "cell_type": "markdown",
   "metadata": {},
   "source": [
    "## Imports"
   ]
  },
  {
   "cell_type": "code",
   "execution_count": 1,
   "metadata": {},
   "outputs": [],
   "source": [
    "# Imports\n",
    "import requests\n",
    "import re\n",
    "from bs4 import BeautifulSoup\n",
    "import urllib2\n",
    "import textract"
   ]
  },
  {
   "cell_type": "markdown",
   "metadata": {},
   "source": [
    "## Global Values"
   ]
  },
  {
   "cell_type": "code",
   "execution_count": 2,
   "metadata": {},
   "outputs": [],
   "source": [
    "# parent folder of the documents\n",
    "parent_folder = \"\"\n",
    "# folder to save statements in\n",
    "statement_folder = \"statements\"\n",
    "# year from which on to save\n",
    "lower_bound_year = 2000\n",
    "# year up to which to save\n",
    "upper_bound_year = 2020"
   ]
  },
  {
   "cell_type": "markdown",
   "metadata": {},
   "source": [
    "## Misc. methods"
   ]
  },
  {
   "cell_type": "code",
   "execution_count": 3,
   "metadata": {},
   "outputs": [],
   "source": [
    "# Create txt-document and save a string in it\n",
    "def save_content(content, folder, filename):\n",
    "    with open(folder + \"/\" + filename + \".txt\", \"w\") as file:\n",
    "        try:\n",
    "            file.write(content)\n",
    "        except UnicodeEncodeError:\n",
    "            file.write(str(content.encode(\"utf-8\")))\n",
    "        except TypeError:\n",
    "            file.write(str(content))"
   ]
  },
  {
   "cell_type": "code",
   "execution_count": 4,
   "metadata": {},
   "outputs": [],
   "source": [
    "# Filters the content out of a statement-page\n",
    "def filter_text(url, save = False):\n",
    "    date = \"\".join(re.findall('\\d\\d\\d\\d\\d+', url))\n",
    "    text = \"\"\n",
    "    page = requests.get(url)\n",
    "    soup = BeautifulSoup(page.content, 'html.parser')\n",
    "    try:\n",
    "        content = soup.find(class_=\"col-xs-12 col-sm-8 col-md-8\")\n",
    "        for p in content.find_all(\"p\"):\n",
    "            text = text + p.get_text().strip()\n",
    "    \n",
    "    except AttributeError:\n",
    "        text = \"\"\n",
    "        p = soup.find_all(\"p\")\n",
    "        temp = p[0].get_text().strip().split(\"\\n\")\n",
    "        for t in temp:\n",
    "            if re.search(\"For immediate release\", t):\n",
    "                continue\n",
    "            if len(t.strip()) < 5:\n",
    "                continue\n",
    "            if re.search(\"[0-9]{4} Monetary policy\", t):\n",
    "                break\n",
    "            text = text + \"\\n\\n\" + t.strip()\n",
    "    \n",
    "    text = text.strip()\n",
    "\n",
    "    if save == True:\n",
    "        filename = date + \"_statement\"\n",
    "        save_content(content = text, folder = parent_folder + statement_folder, filename = filename)\n",
    "\n",
    "    return text"
   ]
  },
  {
   "cell_type": "code",
   "execution_count": 5,
   "metadata": {},
   "outputs": [],
   "source": [
    "def save_content(content, folder, filename):\n",
    "    with open(folder + \"/\" + filename + \".txt\", \"w\") as file:\n",
    "        try:\n",
    "            file.write(content)\n",
    "        except UnicodeEncodeError:\n",
    "            file.write(str(content.encode(\"utf-8\")))\n",
    "        except TypeError:\n",
    "            file.write(str(content))"
   ]
  },
  {
   "cell_type": "markdown",
   "metadata": {},
   "source": [
    "## Retrieving content from current FOMC Meetings page (2013 - today)"
   ]
  },
  {
   "cell_type": "code",
   "execution_count": 6,
   "metadata": {},
   "outputs": [],
   "source": [
    "def retrieve_current_statements(save = False):\n",
    "    current_statements = []\n",
    "    # Get page content of current meetings page\n",
    "    current_fomc_page = requests.get(\"https://www.federalreserve.gov/monetarypolicy/fomccalendars.htm\")\n",
    "    current_fomc_soup = BeautifulSoup(current_fomc_page.content, 'html.parser')\n",
    "    blocks = current_fomc_soup.find_all(class_=\"col-xs-12 col-md-4 col-lg-2\")\n",
    "    for m in blocks:\n",
    "        for a in m.select(\"a\"):\n",
    "            if re.search(\"a.htm\",str(a)):\n",
    "                url = \"https://www.federalreserve.gov\" + a[\"href\"]\n",
    "                date = \"\".join(re.findall('\\d+', url))\n",
    "                article = filter_text(url, save)\n",
    "                current_statements.append((date, url, article))\n",
    "    return current_statements"
   ]
  },
  {
   "cell_type": "markdown",
   "metadata": {},
   "source": [
    "## Retrieving content from historical FOMC Meetings page (2000 - 2012)"
   ]
  },
  {
   "cell_type": "code",
   "execution_count": 7,
   "metadata": {},
   "outputs": [],
   "source": [
    "def retrieve_historical_statements(save = False):\n",
    "    # Get page content of historical meetings page\n",
    "    historical_fomc_page = requests.get(\"https://www.federalreserve.gov/monetarypolicy/fomc_historical_year.htm\")\n",
    "    historical_fomc_soup = BeautifulSoup(historical_fomc_page.content, 'html.parser')\n",
    "    # historical_archive_minutes_pages = historical_archive_soup.select(\".fomc-meeting__minutes\")\n",
    "    \n",
    "    # Get url for each historical year\n",
    "    blocks = historical_fomc_soup.select(\".panel-default\")\n",
    "    basic_urls = []\n",
    "    historical_statements_urls = []\n",
    "    current_statements = []\n",
    "    \n",
    "    for block in blocks:\n",
    "        for a in block.select(\"a\"):\n",
    "            basic_urls.append(\"https://www.federalreserve.gov\" + a[\"href\"])\n",
    "    \n",
    "    # Get URL, Date and Minutes of each Meeting\n",
    "    # Structure of each tuple in the list: (date, url, content) \n",
    "    # date format: yyyymmdd\n",
    "    for url in basic_urls:\n",
    "        date = \"\".join(re.findall('\\d+', url))\n",
    "        if int(date[0:4]) >= lower_bound_year and int(date[0:4]) <= upper_bound_year:\n",
    "            page = requests.get(url)\n",
    "            soup = BeautifulSoup(page.content, \"html.parser\")\n",
    "            for a in soup.select(\"a\"):\n",
    "                if re.search(\".htm\",str(a)):\n",
    "                    url = \"https://www.federalreserve.gov\" + a[\"href\"]\n",
    "                    if re.search(\"https://www.federalreserve.gov/newsevents/press(releases)?/monetary(/)?[0-9]{8}a.htm\", url):\n",
    "                        historical_statements_urls.append(url)\n",
    "                    elif re.search(\"https://www.federalreserve.gov/boarddocs/press/monetary/[0-9]{4}/[0-9]{8}/default.htm\", url):\n",
    "                        historical_statements_urls.append(url)\n",
    "                elif re.search(\"/boarddocs/press/(monetary)|(general)/[0-9]{4}/[0-9]{8}/\", str(a)):\n",
    "                        url = \"https://www.federalreserve.gov\" + a[\"href\"]\n",
    "                        historical_statements_urls.append(url)\n",
    "    \n",
    "    for url in historical_statements_urls:\n",
    "        date = \"\".join(re.findall('\\d+', url))\n",
    "        article = filter_text(url, save)\n",
    "        current_statements.append((date, url, article))\n",
    "    return current_statements"
   ]
  },
  {
   "cell_type": "markdown",
   "metadata": {},
   "source": [
    "## main"
   ]
  },
  {
   "cell_type": "code",
   "execution_count": 8,
   "metadata": {},
   "outputs": [],
   "source": [
    "current_statements = retrieve_current_statements(save = True)\n",
    "historical_statements = retrieve_historical_statements(save = True)\n",
    "statements = sorted(historical_statements) + sorted(current_statements)"
   ]
  }
 ],
 "metadata": {
  "kernelspec": {
   "display_name": "Python 2",
   "language": "python",
   "name": "python2"
  },
  "language_info": {
   "codemirror_mode": {
    "name": "ipython",
    "version": 2
   },
   "file_extension": ".py",
   "mimetype": "text/x-python",
   "name": "python",
   "nbconvert_exporter": "python",
   "pygments_lexer": "ipython2",
   "version": "2.7.14"
  }
 },
 "nbformat": 4,
 "nbformat_minor": 2
}
