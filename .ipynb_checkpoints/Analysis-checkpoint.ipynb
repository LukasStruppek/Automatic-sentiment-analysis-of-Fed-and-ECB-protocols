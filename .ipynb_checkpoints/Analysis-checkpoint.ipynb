{
 "cells": [
  {
   "cell_type": "code",
   "execution_count": 1,
   "metadata": {},
   "outputs": [],
   "source": [
    "import nltk\n",
    "import re\n",
    "import datetime\n",
    "import os"
   ]
  },
  {
   "cell_type": "code",
   "execution_count": 13,
   "metadata": {},
   "outputs": [],
   "source": [
    "# parent folder of the documents\n",
    "parent_folder = \"\"\n",
    "# folder to read minutes plain text from\n",
    "text_folder = \"plain_text/\"\n",
    "# folder to save pre-processed minutes in\n",
    "pre_processed_folder = \"pre_processed/\""
   ]
  },
  {
   "cell_type": "code",
   "execution_count": 14,
   "metadata": {},
   "outputs": [
    {
     "name": "stdout",
     "output_type": "stream",
     "text": [
      "[nltk_data] Downloading package punkt to\n",
      "[nltk_data]     C:\\Users\\lb4653\\AppData\\Roaming\\nltk_data...\n",
      "[nltk_data]   Package punkt is already up-to-date!\n"
     ]
    },
    {
     "data": {
      "text/plain": [
       "True"
      ]
     },
     "execution_count": 14,
     "metadata": {},
     "output_type": "execute_result"
    }
   ],
   "source": [
    "# Used nltk data\n",
    "nltk.download('punkt')"
   ]
  },
  {
   "cell_type": "code",
   "execution_count": 15,
   "metadata": {},
   "outputs": [],
   "source": [
    "# Data analysis / descriptive statistics\n",
    "def descriptive_analysis(lower_bound_date, upper_bound_date):\n",
    "    folders = os.listdir(parent_folder + pre_processed_folder)\n",
    "    data = []\n",
    "    sentences = []\n",
    "    paragraphs = []\n",
    "    for folder in folders:\n",
    "        files = os.listdir(parent_folder + pre_processed_folder + folder)\n",
    "        for file in files:\n",
    "            date = datetime.datetime(int(file[:4]), int(file[4:6]), int(file[6:8]))\n",
    "            if date >= lower_bound_date and date <= upper_bound_date:\n",
    "                paragraphs.append(file)\n",
    "                file_object = open(parent_folder + pre_processed_folder + folder + \"/\"+ file, \"r\")\n",
    "                content = file_object.read().decode('utf-8', 'ignore')\n",
    "                for sentence in nltk.sent_tokenize(content):\n",
    "                    sentences.append(sentence)\n",
    "                \n",
    "    filtered_tokens = []\n",
    "    for s in sentences:\n",
    "        tokens = [word.lower() for word in nltk.word_tokenize(s)]\n",
    "        for t in tokens:\n",
    "            if re.search('[a-zA-Z]', t):\n",
    "                filtered_tokens.append(t)\n",
    "    avg_length = len(filtered_tokens)/len(sentences)\n",
    "    result = {\"sentences\":len(sentences), \"paragraphs\":len(paragraphs), \"avg_sentence_length\":avg_length}\n",
    "    return result"
   ]
  },
  {
   "cell_type": "code",
   "execution_count": 16,
   "metadata": {},
   "outputs": [
    {
     "data": {
      "text/plain": [
       "{'avg_sentence_length': 28, 'paragraphs': 5219, 'sentences': 24517}"
      ]
     },
     "execution_count": 16,
     "metadata": {},
     "output_type": "execute_result"
    }
   ],
   "source": [
    "# Descriptive statistics for time range of paper\n",
    "descriptive_analysis(datetime.datetime(1991, 06, 01), datetime.datetime(2012, 12, 31))"
   ]
  },
  {
   "cell_type": "code",
   "execution_count": 17,
   "metadata": {},
   "outputs": [
    {
     "data": {
      "text/plain": [
       "{'avg_sentence_length': 29, 'paragraphs': 7345, 'sentences': 33482}"
      ]
     },
     "execution_count": 17,
     "metadata": {},
     "output_type": "execute_result"
    }
   ],
   "source": [
    "# Descriptive statistics for whole data\n",
    "descriptive_analysis(datetime.datetime(1990, 01, 01), datetime.datetime(2020, 01, 01))"
   ]
  }
 ],
 "metadata": {
  "kernelspec": {
   "display_name": "Python 2",
   "language": "python",
   "name": "python2"
  },
  "language_info": {
   "codemirror_mode": {
    "name": "ipython",
    "version": 2
   },
   "file_extension": ".py",
   "mimetype": "text/x-python",
   "name": "python",
   "nbconvert_exporter": "python",
   "pygments_lexer": "ipython2",
   "version": "2.7.14"
  }
 },
 "nbformat": 4,
 "nbformat_minor": 2
}
