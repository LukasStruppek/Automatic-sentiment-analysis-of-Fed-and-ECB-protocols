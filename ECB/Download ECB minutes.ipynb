{
 "cells": [
  {
   "cell_type": "markdown",
   "metadata": {},
   "source": [
    "## Imports"
   ]
  },
  {
   "cell_type": "code",
   "execution_count": 1,
   "metadata": {},
   "outputs": [],
   "source": [
    "import requests\n",
    "import re\n",
    "from bs4 import BeautifulSoup\n",
    "import urllib2\n",
    "import textract\n",
    "import os"
   ]
  },
  {
   "cell_type": "markdown",
   "metadata": {},
   "source": [
    "## Global Values\n",
    "\n",
    "Setting the folders to read the data from"
   ]
  },
  {
   "cell_type": "code",
   "execution_count": 2,
   "metadata": {},
   "outputs": [],
   "source": [
    "# parent folder of the documents\n",
    "parent_folder = \"\"\n",
    "# folder to save pre-processed minutes in\n",
    "pre_processed_folder = \"pre_processed/\""
   ]
  },
  {
   "cell_type": "markdown",
   "metadata": {},
   "source": [
    "## Defining different methods"
   ]
  },
  {
   "cell_type": "markdown",
   "metadata": {},
   "source": [
    "Scrapping the urls of the minutes from the main page"
   ]
  },
  {
   "cell_type": "code",
   "execution_count": 3,
   "metadata": {},
   "outputs": [],
   "source": [
    "def retrieve_urls(year = 2020):\n",
    "    # Get urls of ecb Monetary policy accounts\n",
    "    page_urls = []\n",
    "    for i in range(2015, year):\n",
    "        ecb_page = requests.get(\"https://www.ecb.europa.eu/press/accounts/\" + str(i) + \"/html/index.en.html\")\n",
    "        ecb_soup = BeautifulSoup(ecb_page.content, 'html.parser')\n",
    "        for block in ecb_soup.select(\".doc-title\"):\n",
    "            for url in block.select(\"a\"):\n",
    "                page_urls.append(\"https://www.ecb.europa.eu\" + str(url[\"href\"]))\n",
    "    return page_urls"
   ]
  },
  {
   "cell_type": "markdown",
   "metadata": {},
   "source": [
    "Simple methode to save a text in a given folder including creating folder and file (if not already existing)"
   ]
  },
  {
   "cell_type": "code",
   "execution_count": 36,
   "metadata": {},
   "outputs": [],
   "source": [
    "def save_content(content, folder, filename, date):\n",
    "    if os.path.exists(parent_folder + pre_processed_folder + date) == False:\n",
    "        os.makedirs(parent_folder + pre_processed_folder + date)     \n",
    "    \n",
    "    with open(folder + \"/\" + filename + \".txt\", \"w\") as file:\n",
    "        try:\n",
    "            file.write(content)\n",
    "        except UnicodeEncodeError:\n",
    "            file.write(str(content.encode(\"utf-8\")))\n",
    "        except TypeError:\n",
    "            file.write(str(content))"
   ]
  },
  {
   "cell_type": "markdown",
   "metadata": {},
   "source": [
    "Method scraps the sourcecode of the given url and extracts the content in it. Since the ECB is using a very clear structure for their website, it's easy to identify the article in it."
   ]
  },
  {
   "cell_type": "code",
   "execution_count": 62,
   "metadata": {},
   "outputs": [],
   "source": [
    "def filter_text(url, save = False):\n",
    "    date_temp = \"\".join(re.findall('\\d\\d\\d\\d\\d\\d', url))\n",
    "    date = \"20\" + date_temp\n",
    "    page = requests.get(url)\n",
    "    soup = BeautifulSoup(page.content, 'html.parser')\n",
    "    article = soup.find(class_ = 'ecb-pressContent')\n",
    "    counter = 1\n",
    "    for block in article.select(\"p\"):\n",
    "        text = block.get_text()\n",
    "        if len(text) > 200 and save:\n",
    "            save_content(content = text, folder = parent_folder + pre_processed_folder + date,filename = date + \"_\" + str(counter), date = date)\n",
    "            counter = counter + 1"
   ]
  },
  {
   "cell_type": "markdown",
   "metadata": {},
   "source": [
    "Retrieving all urls until the specified parameter and download the content of the websites."
   ]
  },
  {
   "cell_type": "code",
   "execution_count": 63,
   "metadata": {},
   "outputs": [],
   "source": [
    "urls = retrieve_urls(2019)\n",
    "for url in urls:\n",
    "    filter_text(url, save=True)"
   ]
  }
 ],
 "metadata": {
  "kernelspec": {
   "display_name": "Python 2",
   "language": "python",
   "name": "python2"
  },
  "language_info": {
   "codemirror_mode": {
    "name": "ipython",
    "version": 2
   },
   "file_extension": ".py",
   "mimetype": "text/x-python",
   "name": "python",
   "nbconvert_exporter": "python",
   "pygments_lexer": "ipython2",
   "version": "2.7.14"
  }
 },
 "nbformat": 4,
 "nbformat_minor": 2
}
