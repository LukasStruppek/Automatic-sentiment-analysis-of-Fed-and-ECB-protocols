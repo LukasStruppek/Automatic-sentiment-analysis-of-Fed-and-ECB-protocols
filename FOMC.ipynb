{
 "cells": [
  {
   "cell_type": "code",
   "execution_count": 37,
   "metadata": {},
   "outputs": [],
   "source": [
    "import requests\n",
    "from bs4 import BeautifulSoup\n",
    "archive_page = requests.get(\"https://www.federalreserve.gov/monetarypolicy/fomccalendars.htm\")\n",
    "soup = BeautifulSoup(archive_page.content, 'html.parser')\n",
    "minutes = soup.select(\".fomc-meeting__minutes\")"
   ]
  },
  {
   "cell_type": "code",
   "execution_count": 46,
   "metadata": {},
   "outputs": [],
   "source": [
    "urls = []\n",
    "for m in minutes:\n",
    "    for a in m.select(\"a\"):\n",
    "        if(\".htm\" in a[\"href\"]):\n",
    "            url = \"https://www.federalreserve.gov\" + a[\"href\"]\n",
    "            date = re.findall('\\d+', url)\n",
    "            urls.append((date, url))"
   ]
  },
  {
   "cell_type": "code",
   "execution_count": 48,
   "metadata": {},
   "outputs": [
    {
     "data": {
      "text/plain": [
       "(['20180131'],\n",
       " 'https://www.federalreserve.gov/monetarypolicy/fomcminutes20180131.htm')"
      ]
     },
     "execution_count": 48,
     "metadata": {},
     "output_type": "execute_result"
    }
   ],
   "source": [
    "urls[0]"
   ]
  }
 ],
 "metadata": {
  "kernelspec": {
   "display_name": "Python 3",
   "language": "python",
   "name": "python3"
  },
  "language_info": {
   "codemirror_mode": {
    "name": "ipython",
    "version": 3
   },
   "file_extension": ".py",
   "mimetype": "text/x-python",
   "name": "python",
   "nbconvert_exporter": "python",
   "pygments_lexer": "ipython3",
   "version": "3.6.5"
  }
 },
 "nbformat": 4,
 "nbformat_minor": 2
}
