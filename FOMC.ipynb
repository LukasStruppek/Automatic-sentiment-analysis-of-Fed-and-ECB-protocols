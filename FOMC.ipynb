{
 "cells": [
  {
   "cell_type": "code",
   "execution_count": 2,
   "metadata": {},
   "outputs": [],
   "source": [
    "# Imports\n",
    "import requests\n",
    "import re\n",
    "from bs4 import BeautifulSoup"
   ]
  },
  {
   "cell_type": "markdown",
   "metadata": {},
   "source": [
    "## Misc. methods"
   ]
  },
  {
   "cell_type": "code",
   "execution_count": 8,
   "metadata": {},
   "outputs": [],
   "source": [
    "# Filters the content out of a minutes-page (FOMC)\n",
    "def filter_text(url):\n",
    "    page = requests.get(url)\n",
    "    soup = BeautifulSoup(page.content, 'html.parser')\n",
    "    text = soup.find(id = \"article\").get_text()\n",
    "    return text"
   ]
  },
  {
   "cell_type": "markdown",
   "metadata": {},
   "source": [
    "## Retrieving current FOMC minutes (2013 - today)"
   ]
  },
  {
   "cell_type": "code",
   "execution_count": 11,
   "metadata": {},
   "outputs": [],
   "source": [
    "# Get page content\n",
    "archive_page = requests.get(\"https://www.federalreserve.gov/monetarypolicy/fomccalendars.htm\")\n",
    "soup = BeautifulSoup(archive_page.content, 'html.parser')\n",
    "minutes_pages = soup.select(\".fomc-meeting__minutes\")\n",
    "\n",
    "# Get URLs for minutes\n",
    "# Structure of urls-list: (date, url)\n",
    "urls = []\n",
    "for m in minutes_pages:\n",
    "    for a in m.select(\"a\"):\n",
    "        if(\".htm\" in a[\"href\"]):\n",
    "            url = \"https://www.federalreserve.gov\" + a[\"href\"]\n",
    "            date = re.findall('\\d+', url)\n",
    "            urls.append((date, url))"
   ]
  },
  {
   "cell_type": "code",
   "execution_count": 12,
   "metadata": {},
   "outputs": [],
   "source": [
    "# Extract the content of minutes pages\n",
    "# Structure of current_minutes_fomc: (date, url, text)\n",
    "current_minutes_fomc = []\n",
    "for url in urls:\n",
    "    article = [];\n",
    "    article.append(url[0])\n",
    "    article.append(url[1])\n",
    "    article.append(filter_text(url[1]))\n",
    "    current_minutes_fomc.append(article)"
   ]
  }
 ],
 "metadata": {
  "kernelspec": {
   "display_name": "Python 3",
   "language": "python",
   "name": "python3"
  },
  "language_info": {
   "codemirror_mode": {
    "name": "ipython",
    "version": 3
   },
   "file_extension": ".py",
   "mimetype": "text/x-python",
   "name": "python",
   "nbconvert_exporter": "python",
   "pygments_lexer": "ipython3",
   "version": "3.6.5"
  }
 },
 "nbformat": 4,
 "nbformat_minor": 2
}
