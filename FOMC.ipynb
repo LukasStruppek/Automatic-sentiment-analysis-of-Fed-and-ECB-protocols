{
 "cells": [
  {
   "cell_type": "markdown",
   "metadata": {},
   "source": [
    "## Imports"
   ]
  },
  {
   "cell_type": "code",
   "execution_count": 3,
   "metadata": {},
   "outputs": [],
   "source": [
    "# Imports\n",
    "import requests\n",
    "import re\n",
    "from bs4 import BeautifulSoup"
   ]
  },
  {
   "cell_type": "markdown",
   "metadata": {},
   "source": [
    "## Global Values"
   ]
  },
  {
   "cell_type": "code",
   "execution_count": 13,
   "metadata": {},
   "outputs": [],
   "source": [
    "parent_folder = \"\"\n",
    "html_folder = \"full_html\"\n",
    "text_folder = \"plain_text\""
   ]
  },
  {
   "cell_type": "markdown",
   "metadata": {},
   "source": [
    "## Misc. methods"
   ]
  },
  {
   "cell_type": "code",
   "execution_count": 22,
   "metadata": {},
   "outputs": [],
   "source": [
    "# Filters the content out of a minutes-page (FOMC)\n",
    "def filter_text(url, save = False):\n",
    "    page = requests.get(url)\n",
    "    soup = BeautifulSoup(page.content, 'html.parser')\n",
    "\n",
    "    content = soup.find(id = \"article\")\n",
    "    if(content is not None):\n",
    "        text = content.get_text()\n",
    "    else:\n",
    "        content = soup.find(id = \"leftText\")\n",
    "        if content is not Note:\n",
    "            text = content.get_text()\n",
    "        else:\n",
    "            tables = soup.find_all(\"table\")\n",
    "            text = \"\"\n",
    "            for table in tables:\n",
    "                text += table.get_text()\n",
    "        \n",
    "    if save == True:\n",
    "        filename_html = \"\".join(re.findall('\\d+', url)) + \"_fomc_html\"\n",
    "        filename_text = \"\".join(re.findall('\\d+', url)) + \"_fomc_text\"\n",
    "        save_content(content = soup, folder = parent_folder + html_folder, filename = filename_html)\n",
    "        save_content(content = text, folder = parent_folder + text_folder, filename = filename_text)\n",
    "    return text"
   ]
  },
  {
   "cell_type": "code",
   "execution_count": 17,
   "metadata": {},
   "outputs": [],
   "source": [
    "# Save soup-object in folder\n",
    "def save_content(content, folder, filename):\n",
    "    with open(folder + \"/\" + filename + \".txt\", \"w\") as file:\n",
    "        file.write(content.encode(\"utf-8\"))"
   ]
  },
  {
   "cell_type": "markdown",
   "metadata": {},
   "source": [
    "## Retrieving content from current FOMC Meetings page (2013 - today)"
   ]
  },
  {
   "cell_type": "code",
   "execution_count": 7,
   "metadata": {},
   "outputs": [],
   "source": [
    "# Get page content of current meetings page\n",
    "current_fomc_page = requests.get(\"https://www.federalreserve.gov/monetarypolicy/fomccalendars.htm\")\n",
    "current_fomc_soup = BeautifulSoup(current_fomc_page.content, 'html.parser')\n",
    "current_fomc_blocks = current_fomc_soup.select(\".fomc-meeting__minutes\")"
   ]
  },
  {
   "cell_type": "code",
   "execution_count": 18,
   "metadata": {},
   "outputs": [],
   "source": [
    "# Get URL, Date and Minutes of each Meeting\n",
    "# Structure of each tuple in the list: (date, url, content) \n",
    "# date format: yyyymmdd\n",
    "current_minutes_fomc = []\n",
    "for m in current_fomc_blocks:\n",
    "    for a in m.select(\"a\"):\n",
    "        if(\".htm\" in a[\"href\"]):\n",
    "            url = \"https://www.federalreserve.gov\" + a[\"href\"]\n",
    "            date = \"\".join(re.findall('\\d+', url))\n",
    "            article = filter_text(url, True)\n",
    "            current_minutes_fomc.append((date, url, article))"
   ]
  },
  {
   "cell_type": "markdown",
   "metadata": {},
   "source": [
    "## Retrieving content from current FOMC Meetings page (2012 and older)"
   ]
  },
  {
   "cell_type": "code",
   "execution_count": 19,
   "metadata": {},
   "outputs": [],
   "source": [
    "# Get page content of historical meetings page\n",
    "historical_fomc_page = requests.get(\"https://www.federalreserve.gov/monetarypolicy/fomc_historical_year.htm\")\n",
    "historical_fomc_soup = BeautifulSoup(historical_fomc_page.content, 'html.parser')\n",
    "# historical_archive_minutes_pages = historical_archive_soup.select(\".fomc-meeting__minutes\")"
   ]
  },
  {
   "cell_type": "code",
   "execution_count": 20,
   "metadata": {},
   "outputs": [],
   "source": [
    "# Get url for each historical year\n",
    "blocks = historical_fomc_soup.select(\".panel-default\")\n",
    "historical_minutes_urls = []\n",
    "for block in blocks:\n",
    "    for a in block.select(\"a\"):\n",
    "        historical_minutes_urls.append(\"https://www.federalreserve.gov\" + a[\"href\"])"
   ]
  },
  {
   "cell_type": "code",
   "execution_count": 21,
   "metadata": {},
   "outputs": [
    {
     "ename": "AttributeError",
     "evalue": "'NoneType' object has no attribute 'get_text'",
     "output_type": "error",
     "traceback": [
      "\u001b[1;31m---------------------------------------------------------------------------\u001b[0m",
      "\u001b[1;31mAttributeError\u001b[0m                            Traceback (most recent call last)",
      "\u001b[1;32m<ipython-input-21-2539d2abc686>\u001b[0m in \u001b[0;36m<module>\u001b[1;34m()\u001b[0m\n\u001b[0;32m     17\u001b[0m                 \u001b[1;31m# date is extracted from the url\u001b[0m\u001b[1;33m\u001b[0m\u001b[1;33m\u001b[0m\u001b[0m\n\u001b[0;32m     18\u001b[0m                 \u001b[0mdate\u001b[0m \u001b[1;33m=\u001b[0m \u001b[1;34m\"\"\u001b[0m\u001b[1;33m.\u001b[0m\u001b[0mjoin\u001b[0m\u001b[1;33m(\u001b[0m\u001b[0mre\u001b[0m\u001b[1;33m.\u001b[0m\u001b[0mfindall\u001b[0m\u001b[1;33m(\u001b[0m\u001b[1;34m'\\d+'\u001b[0m\u001b[1;33m,\u001b[0m \u001b[0murl\u001b[0m\u001b[1;33m)\u001b[0m\u001b[1;33m)\u001b[0m\u001b[1;33m\u001b[0m\u001b[0m\n\u001b[1;32m---> 19\u001b[1;33m                 \u001b[0marticle\u001b[0m \u001b[1;33m=\u001b[0m \u001b[0mfilter_text\u001b[0m\u001b[1;33m(\u001b[0m\u001b[0murl\u001b[0m\u001b[1;33m,\u001b[0m \u001b[0mTrue\u001b[0m\u001b[1;33m)\u001b[0m\u001b[1;33m\u001b[0m\u001b[0m\n\u001b[0m\u001b[0;32m     20\u001b[0m                 \u001b[0mhistorical_minutes_fomc\u001b[0m\u001b[1;33m.\u001b[0m\u001b[0mappend\u001b[0m\u001b[1;33m(\u001b[0m\u001b[1;33m(\u001b[0m\u001b[0mdate\u001b[0m\u001b[1;33m,\u001b[0m \u001b[0murl\u001b[0m\u001b[1;33m,\u001b[0m \u001b[0marticle\u001b[0m\u001b[1;33m)\u001b[0m\u001b[1;33m)\u001b[0m\u001b[1;33m\u001b[0m\u001b[0m\n",
      "\u001b[1;32m<ipython-input-14-39c62bc5b3c7>\u001b[0m in \u001b[0;36mfilter_text\u001b[1;34m(url, save)\u001b[0m\n\u001b[0;32m      8\u001b[0m         \u001b[0mtext\u001b[0m \u001b[1;33m=\u001b[0m \u001b[0mcontent\u001b[0m\u001b[1;33m.\u001b[0m\u001b[0mget_text\u001b[0m\u001b[1;33m(\u001b[0m\u001b[1;33m)\u001b[0m\u001b[1;33m\u001b[0m\u001b[0m\n\u001b[0;32m      9\u001b[0m     \u001b[1;32melse\u001b[0m\u001b[1;33m:\u001b[0m\u001b[1;33m\u001b[0m\u001b[0m\n\u001b[1;32m---> 10\u001b[1;33m         \u001b[0mtext\u001b[0m \u001b[1;33m=\u001b[0m \u001b[0msoup\u001b[0m\u001b[1;33m.\u001b[0m\u001b[0mfind\u001b[0m\u001b[1;33m(\u001b[0m\u001b[0mid\u001b[0m \u001b[1;33m=\u001b[0m \u001b[1;34m\"leftText\"\u001b[0m\u001b[1;33m)\u001b[0m\u001b[1;33m.\u001b[0m\u001b[0mget_text\u001b[0m\u001b[1;33m(\u001b[0m\u001b[1;33m)\u001b[0m\u001b[1;33m\u001b[0m\u001b[0m\n\u001b[0m\u001b[0;32m     11\u001b[0m         \u001b[1;32mif\u001b[0m \u001b[0mtext\u001b[0m \u001b[1;32mis\u001b[0m \u001b[0mNone\u001b[0m\u001b[1;33m:\u001b[0m\u001b[1;33m\u001b[0m\u001b[0m\n\u001b[0;32m     12\u001b[0m             \u001b[0mtables\u001b[0m \u001b[1;33m=\u001b[0m \u001b[0msoup\u001b[0m\u001b[1;33m.\u001b[0m\u001b[0mfind_all\u001b[0m\u001b[1;33m(\u001b[0m\u001b[1;34m\"table\"\u001b[0m\u001b[1;33m)\u001b[0m\u001b[1;33m\u001b[0m\u001b[0m\n",
      "\u001b[1;31mAttributeError\u001b[0m: 'NoneType' object has no attribute 'get_text'"
     ]
    }
   ],
   "source": [
    "# Get URL, Date and Minutes of each Meeting\n",
    "# Structure of each tuple in the list: (date, url, content) \n",
    "# date format: yyyymmdd\n",
    "historical_minutes_fomc = []\n",
    "for url in historical_minutes_urls:\n",
    "    page = requests.get(url)\n",
    "    soup = BeautifulSoup(page.content, \"html.parser\")\n",
    "    blocks = soup.select(\".panel-default\")\n",
    "    for block in blocks:\n",
    "        for a in block.select(\"a\"):\n",
    "            # urls are not consistent over the years\n",
    "            if (\"minutes\" in a[\"href\"]) and (\".htm\" in a[\"href\"]) and (\"#\" not in a[\"href\"]):\n",
    "                if(\"https://www.federalreserve.gov\" in a[\"href\"]):\n",
    "                    url = a[\"href\"]\n",
    "                else:\n",
    "                    url= \"https://www.federalreserve.gov\" + a[\"href\"]\n",
    "                # date is extracted from the url\n",
    "                date = \"\".join(re.findall('\\d+', url))\n",
    "                article = filter_text(url, True)\n",
    "                historical_minutes_fomc.append((date, url, article))"
   ]
  },
  {
   "cell_type": "markdown",
   "metadata": {},
   "source": [
    "## Unite collections"
   ]
  },
  {
   "cell_type": "code",
   "execution_count": 67,
   "metadata": {},
   "outputs": [],
   "source": [
    "minutes_fomc = sorted(historical_minutes_fomc) + sorted(current_minutes_fomc)"
   ]
  },
  {
   "cell_type": "markdown",
   "metadata": {},
   "source": [
    "# Testing Area"
   ]
  },
  {
   "cell_type": "code",
   "execution_count": 10,
   "metadata": {},
   "outputs": [],
   "source": [
    "with open(\"full_html/20180131_fomc_html.txt\", \"w\") as f: \n",
    "    f.write(\"Hello World\") "
   ]
  }
 ],
 "metadata": {
  "kernelspec": {
   "display_name": "Python 2",
   "language": "python",
   "name": "python2"
  },
  "language_info": {
   "codemirror_mode": {
    "name": "ipython",
    "version": 2
   },
   "file_extension": ".py",
   "mimetype": "text/x-python",
   "name": "python",
   "nbconvert_exporter": "python",
   "pygments_lexer": "ipython2",
   "version": "2.7.14"
  }
 },
 "nbformat": 4,
 "nbformat_minor": 2
}
